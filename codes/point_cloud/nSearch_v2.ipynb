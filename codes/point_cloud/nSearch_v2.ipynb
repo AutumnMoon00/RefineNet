{
 "cells": [
  {
   "cell_type": "code",
   "execution_count": 1,
   "metadata": {},
   "outputs": [],
   "source": [
    "import laspy\n",
    "import numpy as np\n",
    "from scipy.spatial import KDTree\n",
    "from user_inputs import laz_file_path, clip_folder_path\n",
    "from user_inputs import search_radius, nn_threshold, bin_count_nn\n",
    "from helper_functions import generate_bins, fraction_of_trues\n",
    "import time\n",
    "from tqdm import tqdm"
   ]
  },
  {
   "cell_type": "code",
   "execution_count": 2,
   "metadata": {},
   "outputs": [
    {
     "data": {
      "text/plain": [
       "'D:\\\\Geomatics\\\\thesis\\\\RefineNet\\\\data\\\\AHN\\\\clipped\\\\C_37EN2_clipped_8th_part.LAZ'"
      ]
     },
     "execution_count": 2,
     "metadata": {},
     "output_type": "execute_result"
    }
   ],
   "source": [
    "laz_file_name = laz_file_path.split(\"\\\\\")[-1].split(\".\")\n",
    "clip_laz_file_name = laz_file_name[0] + \"_clipped_8th_part.\" + laz_file_name[1]\n",
    "clip_laz_path = clip_folder_path + \"\\\\\" + clip_laz_file_name\n",
    "clip_laz_path"
   ]
  },
  {
   "cell_type": "code",
   "execution_count": 3,
   "metadata": {},
   "outputs": [],
   "source": [
    "laz = laspy.read(clip_laz_path)"
   ]
  },
  {
   "cell_type": "code",
   "execution_count": 4,
   "metadata": {},
   "outputs": [
    {
     "name": "stdout",
     "output_type": "stream",
     "text": [
      "number of points: 18742173\n"
     ]
    }
   ],
   "source": [
    "# number of points\n",
    "print(f\"number of points: {laz.header.point_count}\")"
   ]
  },
  {
   "cell_type": "code",
   "execution_count": 5,
   "metadata": {},
   "outputs": [
    {
     "name": "stdout",
     "output_type": "stream",
     "text": [
      "X\n",
      "Y\n",
      "Z\n",
      "intensity\n",
      "return_number\n",
      "number_of_returns\n",
      "scan_direction_flag\n",
      "edge_of_flight_line\n",
      "classification\n",
      "synthetic\n",
      "key_point\n",
      "withheld\n",
      "scan_angle_rank\n",
      "user_data\n",
      "point_source_id\n",
      "gps_time\n",
      "Amplitude\n",
      "Reflectance\n",
      "Deviation\n",
      "\n",
      "unique classifications in clipped region:  [ 1  2  6  9 26]\n"
     ]
    }
   ],
   "source": [
    "# printing out all the available dimensions in clipped laz file\n",
    "for dimension in laz.point_format.dimensions:\n",
    "    print(dimension.name)\n",
    "print(\"\\nunique classifications in clipped region: \", np.unique(laz.classification))"
   ]
  },
  {
   "cell_type": "markdown",
   "metadata": {},
   "source": [
    "**Neighbourhood search steps**\n",
    "- making a kd tree (first load the points)\n",
    "- finding the nearest points within 0.5 m radius\n",
    "    - we can first build np array (or pandas dataframe) with all the required points, classification (labels), rgb(?), intensities\n",
    "    - then use np.where to find out the distances and indexes of the neighbour points\n",
    "    - filter only those within 0.5m and look for their classifications\n",
    "    - give confidence scores to points\n",
    "    - add extra dimension to laz file"
   ]
  },
  {
   "cell_type": "code",
   "execution_count": 6,
   "metadata": {},
   "outputs": [
    {
     "name": "stdout",
     "output_type": "stream",
     "text": [
      "xyz shape:  (18742173, 3)\n"
     ]
    }
   ],
   "source": [
    "# loading the xyz values\n",
    "xyz = laz.xyz.copy()\n",
    "print(\"xyz shape: \", xyz.shape)\n",
    "# build a kd tree\n",
    "tree = KDTree(xyz)"
   ]
  },
  {
   "cell_type": "code",
   "execution_count": 8,
   "metadata": {},
   "outputs": [
    {
     "name": "stdout",
     "output_type": "stream",
     "text": [
      "labels shape:  (18742173,)\n"
     ]
    }
   ],
   "source": [
    "# loading the classifications of points\n",
    "labels = laz.classification\n",
    "print(\"labels shape: \", labels.shape)"
   ]
  },
  {
   "cell_type": "markdown",
   "metadata": {},
   "source": [
    "### **Binning the data to take off load from kd tree**\n",
    "\n",
    "- number of bins is a hyper-parameter, can be modified in `user_inputs.py`"
   ]
  },
  {
   "cell_type": "code",
   "execution_count": 9,
   "metadata": {},
   "outputs": [
    {
     "name": "stdout",
     "output_type": "stream",
     "text": [
      "num_points:  18742173\n",
      "number of bins:  40\n",
      "[[0, 468554], [468554, 937109], [937109, 1405663], [1405663, 1874217], [1874217, 2342772], [2342772, 2811326], [2811326, 3279880], [3279880, 3748435], [3748435, 4216989], [4216989, 4685543], [4685543, 5154098], [5154098, 5622652], [5622652, 6091206], [6091206, 6559761], [6559761, 7028315], [7028315, 7496869], [7496869, 7965424], [7965424, 8433978], [8433978, 8902532], [8902532, 9371086], [9371086, 9839641], [9839641, 10308195], [10308195, 10776749], [10776749, 11245304], [11245304, 11713858], [11713858, 12182412], [12182412, 12650967], [12650967, 13119521], [13119521, 13588075], [13588075, 14056630], [14056630, 14525184], [14525184, 14993738], [14993738, 15462293], [15462293, 15930847], [15930847, 16399401], [16399401, 16867956], [16867956, 17336510], [17336510, 17805064], [17805064, 18273619], [18273619, 18742173]]\n"
     ]
    }
   ],
   "source": [
    "# binning for neighbourhood search, nobebook crashing when given all the points\n",
    "num_points = laz.header.point_count\n",
    "nn_bins = generate_bins(number=num_points, bin_count=bin_count_nn)\n",
    "print(\"num_points: \", num_points)\n",
    "print(\"number of bins: \", bin_count_nn)\n",
    "print(nn_bins)"
   ]
  },
  {
   "cell_type": "markdown",
   "metadata": {},
   "source": [
    "#### *Looping throung all the bins sequentially and calculate confidences*  \n",
    "- **Get all the neighbouring points (including itself) for a given point**\n",
    "- seperate the current point from the neighbours\n",
    "- get classification of the current point\n",
    "- get classification of the neighbour points\n",
    "- **Calculate confidences**\n",
    "    - **count the percentage of neighbour points are of same classification**\n",
    "    - **points with neighbours < threshold => we would be giving `0` confidence.. should be altered later**\n",
    "\n",
    "**Confidence = (label_match_count) / (neighbour_count)**\n",
    "1. get match count\n",
    "2. get neighbour count\n",
    "3. calculate confidence\n",
    "\n",
    "**After**\n",
    "1. get threshold mask\n",
    "2. less than 5 threshold number of neighbours, give confidence of `0`"
   ]
  },
  {
   "cell_type": "code",
   "execution_count": 10,
   "metadata": {},
   "outputs": [
    {
     "name": "stderr",
     "output_type": "stream",
     "text": [
      "Processing bins:   0%|          | 0/40 [00:00<?, ?it/s]"
     ]
    },
    {
     "name": "stdout",
     "output_type": "stream",
     "text": [
      "pts_vector[250]:  [250]\n",
      "nn_np_padded[250]:  [250 63248 63978 63979 63980 2629218 2629219 2629220 2629907 2629908\n",
      " 2629909 2630609 2630610 nan nan nan nan nan nan nan nan nan nan nan nan\n",
      " nan nan nan nan nan nan]\n",
      "nn_np_padded[250]:  [nan 63248 63978 63979 63980 2629218 2629219 2629220 2629907 2629908\n",
      " 2629909 2630609 2630610 nan nan nan nan nan nan nan nan nan nan nan nan\n",
      " nan nan nan nan nan nan]\n"
     ]
    },
    {
     "name": "stderr",
     "output_type": "stream",
     "text": [
      "C:\\conda_tmp\\ipykernel_25584\\241511297.py:67: RuntimeWarning: invalid value encountered in divide\n",
      "  confidences = match_pts_nn_num / nn_count\n",
      "Processing bins:   2%|▎         | 1/40 [00:03<02:31,  3.88s/it]"
     ]
    },
    {
     "name": "stdout",
     "output_type": "stream",
     "text": [
      "start, end:  0 468554\n",
      "pts_vector.shape:  (468554, 1)\n",
      "pts_vector:  [[     0]\n",
      " [     1]\n",
      " [     2]\n",
      " ...\n",
      " [468551]\n",
      " [468552]\n",
      " [468553]]\n",
      "nn.shape:  (468554,)\n",
      "pts_vector[250]:  [468804]\n",
      "nn_np_padded[250]:  [466028 466029 466030 467420 467421 467422 468803 468804 468805 470197\n",
      " 470198 470199 3061974 3061975 3061976 3063020 3063021 3063022 3063023\n",
      " 3064066 3064067 3064068 nan nan nan nan nan nan]\n",
      "nn_np_padded[250]:  [466028 466029 466030 467420 467421 467422 468803 nan 468805 470197 470198\n",
      " 470199 3061974 3061975 3061976 3063020 3063021 3063022 3063023 3064066\n",
      " 3064067 3064068 nan nan nan nan nan nan]\n"
     ]
    },
    {
     "name": "stderr",
     "output_type": "stream",
     "text": [
      "Processing bins:   5%|▌         | 2/40 [00:08<02:34,  4.06s/it]"
     ]
    },
    {
     "name": "stdout",
     "output_type": "stream",
     "text": [
      "start, end:  468554 937109\n",
      "pts_vector.shape:  (468555, 1)\n",
      "pts_vector:  [[468554]\n",
      " [468555]\n",
      " [468556]\n",
      " ...\n",
      " [937106]\n",
      " [937107]\n",
      " [937108]]\n",
      "nn.shape:  (468555,)\n",
      "pts_vector[250]:  [937359]\n",
      "nn_np_padded[250]:  [936211 936212 937358 937359 937360 938520 938521 938522 938523 939681\n",
      " 939682 3402073 3402074 3402075 3403534 3403535 3403536 3403537 3404992\n",
      " 3404993 3404994 nan nan nan nan nan nan nan nan]\n",
      "nn_np_padded[250]:  [936211 936212 937358 nan 937360 938520 938521 938522 938523 939681 939682\n",
      " 3402073 3402074 3402075 3403534 3403535 3403536 3403537 3404992 3404993\n",
      " 3404994 nan nan nan nan nan nan nan nan]\n"
     ]
    },
    {
     "name": "stderr",
     "output_type": "stream",
     "text": [
      "Processing bins:   8%|▊         | 3/40 [00:12<02:28,  4.01s/it]"
     ]
    },
    {
     "name": "stdout",
     "output_type": "stream",
     "text": [
      "start, end:  937109 1405663\n",
      "pts_vector.shape:  (468554, 1)\n",
      "pts_vector:  [[ 937109]\n",
      " [ 937110]\n",
      " [ 937111]\n",
      " ...\n",
      " [1405660]\n",
      " [1405661]\n",
      " [1405662]]\n",
      "nn.shape:  (468554,)\n",
      "pts_vector[250]:  [1405913]\n",
      "nn_np_padded[250]:  [1404281 1405913 1405914 3785875 3787111 3788346 3788347 nan nan nan nan\n",
      " nan nan nan nan nan nan nan nan nan nan nan nan nan nan nan nan nan nan]\n",
      "nn_np_padded[250]:  [1404281 nan 1405914 3785875 3787111 3788346 3788347 nan nan nan nan nan\n",
      " nan nan nan nan nan nan nan nan nan nan nan nan nan nan nan nan nan]\n"
     ]
    },
    {
     "name": "stderr",
     "output_type": "stream",
     "text": [
      "Processing bins:  10%|█         | 4/40 [00:15<02:21,  3.92s/it]"
     ]
    },
    {
     "name": "stdout",
     "output_type": "stream",
     "text": [
      "start, end:  1405663 1874217\n",
      "pts_vector.shape:  (468554, 1)\n",
      "pts_vector:  [[1405663]\n",
      " [1405664]\n",
      " [1405665]\n",
      " ...\n",
      " [1874214]\n",
      " [1874215]\n",
      " [1874216]]\n",
      "nn.shape:  (468554,)\n",
      "pts_vector[250]:  [1874467]\n",
      "nn_np_padded[250]:  [1872689 1872690 1872691 1872692 1874466 1874467 1874468 1876176 1876177\n",
      " 1876178 4710143 4710144 4710145 4710146 4711696 4711697 4711698 4711699\n",
      " 4713245 4713246 4713247 nan nan nan nan nan nan nan nan]\n",
      "nn_np_padded[250]:  [1872689 1872690 1872691 1872692 1874466 nan 1874468 1876176 1876177\n",
      " 1876178 4710143 4710144 4710145 4710146 4711696 4711697 4711698 4711699\n",
      " 4713245 4713246 4713247 nan nan nan nan nan nan nan nan]\n"
     ]
    },
    {
     "name": "stderr",
     "output_type": "stream",
     "text": [
      "Processing bins:  12%|█▎        | 5/40 [00:19<02:17,  3.92s/it]"
     ]
    },
    {
     "name": "stdout",
     "output_type": "stream",
     "text": [
      "start, end:  1874217 2342772\n",
      "pts_vector.shape:  (468555, 1)\n",
      "pts_vector:  [[1874217]\n",
      " [1874218]\n",
      " [1874219]\n",
      " ...\n",
      " [2342769]\n",
      " [2342770]\n",
      " [2342771]]\n",
      "nn.shape:  (468555,)\n",
      "pts_vector[250]:  [2343022]\n",
      "nn_np_padded[250]:  [2341320 2341322 2341325 2343020 2343022 2343024 2344765 2344768 2344770\n",
      " 4914708 4914710 4914714 4916683 4916684 4916686 4916688 4918713 4918715\n",
      " 4918717 4920737 4920739 nan nan nan nan nan nan nan nan]\n",
      "nn_np_padded[250]:  [2341320 2341322 2341325 2343020 nan 2343024 2344765 2344768 2344770\n",
      " 4914708 4914710 4914714 4916683 4916684 4916686 4916688 4918713 4918715\n",
      " 4918717 4920737 4920739 nan nan nan nan nan nan nan nan]\n"
     ]
    },
    {
     "name": "stderr",
     "output_type": "stream",
     "text": [
      "Processing bins:  15%|█▌        | 6/40 [00:23<02:12,  3.90s/it]"
     ]
    },
    {
     "name": "stdout",
     "output_type": "stream",
     "text": [
      "start, end:  2342772 2811326\n",
      "pts_vector.shape:  (468554, 1)\n",
      "pts_vector:  [[2342772]\n",
      " [2342773]\n",
      " [2342774]\n",
      " ...\n",
      " [2811323]\n",
      " [2811324]\n",
      " [2811325]]\n",
      "nn.shape:  (468554,)\n",
      "pts_vector[250]:  [2811576]\n",
      "nn_np_padded[250]:  [25058 25059 25444 25445 25446 25824 25825 25826 26221 2808145 2809863\n",
      " 2809864 2809865 2811575 2811576 2811577 2813245 2813246 nan nan nan nan\n",
      " nan nan nan nan nan nan nan]\n",
      "nn_np_padded[250]:  [25058 25059 25444 25445 25446 25824 25825 25826 26221 2808145 2809863\n",
      " 2809864 2809865 2811575 nan 2811577 2813245 2813246 nan nan nan nan nan\n",
      " nan nan nan nan nan nan]\n"
     ]
    },
    {
     "name": "stderr",
     "output_type": "stream",
     "text": [
      "Processing bins:  18%|█▊        | 7/40 [00:27<02:12,  4.00s/it]"
     ]
    },
    {
     "name": "stdout",
     "output_type": "stream",
     "text": [
      "start, end:  2811326 3279880\n",
      "pts_vector.shape:  (468554, 1)\n",
      "pts_vector:  [[2811326]\n",
      " [2811327]\n",
      " [2811328]\n",
      " ...\n",
      " [3279877]\n",
      " [3279878]\n",
      " [3279879]]\n",
      "nn.shape:  (468554,)\n",
      "pts_vector[250]:  [3280130]\n",
      "nn_np_padded[250]:  [488860 488864 490237 490240 490243 3280130 3280133 3281689 nan nan nan\n",
      " nan nan nan nan nan nan nan nan nan nan nan nan nan nan nan nan nan nan]\n",
      "nn_np_padded[250]:  [488860 488864 490237 490240 490243 nan 3280133 3281689 nan nan nan nan\n",
      " nan nan nan nan nan nan nan nan nan nan nan nan nan nan nan nan nan]\n"
     ]
    },
    {
     "name": "stderr",
     "output_type": "stream",
     "text": [
      "Processing bins:  20%|██        | 8/40 [00:31<02:09,  4.03s/it]"
     ]
    },
    {
     "name": "stdout",
     "output_type": "stream",
     "text": [
      "start, end:  3279880 3748435\n",
      "pts_vector.shape:  (468555, 1)\n",
      "pts_vector:  [[3279880]\n",
      " [3279881]\n",
      " [3279882]\n",
      " ...\n",
      " [3748432]\n",
      " [3748433]\n",
      " [3748434]]\n",
      "nn.shape:  (468555,)\n",
      "pts_vector[250]:  [3748685]\n",
      "nn_np_padded[250]:  [951889 951890 953088 953089 953090 953091 954291 954292 954293 955497\n",
      " 955498 955499 3747330 3747331 3748684 3748685 3748686 3750010 3750011\n",
      " 3750012 nan nan nan nan nan nan nan nan nan]\n",
      "nn_np_padded[250]:  [951889 951890 953088 953089 953090 953091 954291 954292 954293 955497\n",
      " 955498 955499 3747330 3747331 3748684 nan 3748686 3750010 3750011 3750012\n",
      " nan nan nan nan nan nan nan nan nan]\n"
     ]
    },
    {
     "name": "stderr",
     "output_type": "stream",
     "text": [
      "Processing bins:  22%|██▎       | 9/40 [00:35<02:05,  4.05s/it]"
     ]
    },
    {
     "name": "stdout",
     "output_type": "stream",
     "text": [
      "start, end:  3748435 4216989\n",
      "pts_vector.shape:  (468554, 1)\n",
      "pts_vector:  [[3748435]\n",
      " [3748436]\n",
      " [3748437]\n",
      " ...\n",
      " [4216986]\n",
      " [4216987]\n",
      " [4216988]]\n",
      "nn.shape:  (468554,)\n",
      "pts_vector[250]:  [4217239]\n",
      "nn_np_padded[250]:  [1956207 1957923 1957925 1957927 1957930 1959681 1959683 1959684 1959686\n",
      " 1961397 1961399 4215550 4215553 4215557 4217237 4217239 4217241 4218943\n",
      " 4218944 4218947 4220636 nan nan nan nan nan nan nan nan]\n",
      "nn_np_padded[250]:  [1956207 1957923 1957925 1957927 1957930 1959681 1959683 1959684 1959686\n",
      " 1961397 1961399 4215550 4215553 4215557 4217237 nan 4217241 4218943\n",
      " 4218944 4218947 4220636 nan nan nan nan nan nan nan nan]\n"
     ]
    },
    {
     "name": "stderr",
     "output_type": "stream",
     "text": [
      "Processing bins:  25%|██▌       | 10/40 [00:40<02:02,  4.10s/it]"
     ]
    },
    {
     "name": "stdout",
     "output_type": "stream",
     "text": [
      "start, end:  4216989 4685543\n",
      "pts_vector.shape:  (468554, 1)\n",
      "pts_vector:  [[4216989]\n",
      " [4216990]\n",
      " [4216991]\n",
      " ...\n",
      " [4685540]\n",
      " [4685541]\n",
      " [4685542]]\n",
      "nn.shape:  (468554,)\n",
      "pts_vector[250]:  [4685793]\n",
      "nn_np_padded[250]:  [2188314 2188315 2188316 2188317 2190112 2190113 2190114 2191943 2191944\n",
      " 2191945 4682553 4684180 4684181 4684182 4685792 4685793 4685794 4687356\n",
      " 4687357 4687358 nan nan nan nan nan nan nan nan]\n",
      "nn_np_padded[250]:  [2188314 2188315 2188316 2188317 2190112 2190113 2190114 2191943 2191944\n",
      " 2191945 4682553 4684180 4684181 4684182 4685792 nan 4685794 4687356\n",
      " 4687357 4687358 nan nan nan nan nan nan nan nan]\n"
     ]
    },
    {
     "name": "stderr",
     "output_type": "stream",
     "text": [
      "Processing bins:  28%|██▊       | 11/40 [00:44<01:56,  4.02s/it]"
     ]
    },
    {
     "name": "stdout",
     "output_type": "stream",
     "text": [
      "start, end:  4685543 5154098\n",
      "pts_vector.shape:  (468555, 1)\n",
      "pts_vector:  [[4685543]\n",
      " [4685544]\n",
      " [4685545]\n",
      " ...\n",
      " [5154095]\n",
      " [5154096]\n",
      " [5154097]]\n",
      "nn.shape:  (468555,)\n",
      "pts_vector[250]:  [5154348]\n",
      "nn_np_padded[250]:  [2525234 2525235 2525236 2526051 2526052 2526053 2526875 2526876 2526877\n",
      " 5152636 5152637 5154347 5154348 5154349 5156057 5156058 5156059 5157785\n",
      " 5157786 nan nan nan nan nan nan nan nan nan nan nan nan nan nan nan nan\n",
      " nan nan nan nan nan nan nan nan nan nan nan nan nan nan]\n",
      "nn_np_padded[250]:  [2525234 2525235 2525236 2526051 2526052 2526053 2526875 2526876 2526877\n",
      " 5152636 5152637 5154347 nan 5154349 5156057 5156058 5156059 5157785\n",
      " 5157786 nan nan nan nan nan nan nan nan nan nan nan nan nan nan nan nan\n",
      " nan nan nan nan nan nan nan nan nan nan nan nan nan nan]\n"
     ]
    },
    {
     "name": "stderr",
     "output_type": "stream",
     "text": [
      "Processing bins:  30%|███       | 12/40 [00:49<02:06,  4.53s/it]"
     ]
    },
    {
     "name": "stdout",
     "output_type": "stream",
     "text": [
      "start, end:  5154098 5622652\n",
      "pts_vector.shape:  (468554, 1)\n",
      "pts_vector:  [[5154098]\n",
      " [5154099]\n",
      " [5154100]\n",
      " ...\n",
      " [5622649]\n",
      " [5622650]\n",
      " [5622651]]\n",
      "nn.shape:  (468554,)\n",
      "pts_vector[250]:  [5622902]\n",
      "nn_np_padded[250]:  [5620959 5622902 5624819 9598210 9599677 9599681 10953831 10955506\n",
      " 10957166 14385677 14386865 14388062 nan nan nan nan nan nan nan nan nan\n",
      " nan nan nan nan nan nan nan nan nan nan nan nan nan nan nan nan nan nan\n",
      " nan nan nan nan nan nan nan nan nan]\n",
      "nn_np_padded[250]:  [5620959 nan 5624819 9598210 9599677 9599681 10953831 10955506 10957166\n",
      " 14385677 14386865 14388062 nan nan nan nan nan nan nan nan nan nan nan\n",
      " nan nan nan nan nan nan nan nan nan nan nan nan nan nan nan nan nan nan\n",
      " nan nan nan nan nan nan nan]\n"
     ]
    },
    {
     "name": "stderr",
     "output_type": "stream",
     "text": [
      "Processing bins:  32%|███▎      | 13/40 [00:55<02:12,  4.91s/it]"
     ]
    },
    {
     "name": "stdout",
     "output_type": "stream",
     "text": [
      "start, end:  5622652 6091206\n",
      "pts_vector.shape:  (468554, 1)\n",
      "pts_vector:  [[5622652]\n",
      " [5622653]\n",
      " [5622654]\n",
      " ...\n",
      " [6091203]\n",
      " [6091204]\n",
      " [6091205]]\n",
      "nn.shape:  (468554,)\n",
      "pts_vector[250]:  [6091456]\n",
      "nn_np_padded[250]:  [6089824 6089827 6091454 6091456 6091458 10756363 10756365 10756368\n",
      " 10756370 14655496 14656688 nan nan nan nan nan nan nan nan nan nan nan\n",
      " nan nan nan nan nan nan nan nan nan nan nan nan nan nan nan nan nan nan\n",
      " nan nan nan nan nan nan nan]\n",
      "nn_np_padded[250]:  [6089824 6089827 6091454 nan 6091458 10756363 10756365 10756368 10756370\n",
      " 14655496 14656688 nan nan nan nan nan nan nan nan nan nan nan nan nan nan\n",
      " nan nan nan nan nan nan nan nan nan nan nan nan nan nan nan nan nan nan\n",
      " nan nan nan nan]\n"
     ]
    },
    {
     "name": "stderr",
     "output_type": "stream",
     "text": [
      "Processing bins:  35%|███▌      | 14/40 [01:01<02:14,  5.18s/it]"
     ]
    },
    {
     "name": "stdout",
     "output_type": "stream",
     "text": [
      "start, end:  6091206 6559761\n",
      "pts_vector.shape:  (468555, 1)\n",
      "pts_vector:  [[6091206]\n",
      " [6091207]\n",
      " [6091208]\n",
      " ...\n",
      " [6559758]\n",
      " [6559759]\n",
      " [6559760]]\n",
      "nn.shape:  (468555,)\n",
      "pts_vector[250]:  [6560011]\n",
      "nn_np_padded[250]:  [6557230 6558620 6558621 6558622 6560010 6560011 6560012 6561405 6561406\n",
      " 8954005 8954006 8954007 8955050 8955051 8955052 8956089 8956090 8956091\n",
      " 13641691 13641692 13643000 13643001 13643002 13644298 13644299 13644300\n",
      " 13645590 nan nan nan nan nan nan nan nan nan nan nan nan nan nan nan nan\n",
      " nan nan nan nan nan]\n",
      "nn_np_padded[250]:  [6557230 6558620 6558621 6558622 6560010 nan 6560012 6561405 6561406\n",
      " 8954005 8954006 8954007 8955050 8955051 8955052 8956089 8956090 8956091\n",
      " 13641691 13641692 13643000 13643001 13643002 13644298 13644299 13644300\n",
      " 13645590 nan nan nan nan nan nan nan nan nan nan nan nan nan nan nan nan\n",
      " nan nan nan nan nan]\n"
     ]
    },
    {
     "name": "stderr",
     "output_type": "stream",
     "text": [
      "Processing bins:  38%|███▊      | 15/40 [01:07<02:16,  5.45s/it]"
     ]
    },
    {
     "name": "stdout",
     "output_type": "stream",
     "text": [
      "start, end:  6559761 7028315\n",
      "pts_vector.shape:  (468554, 1)\n",
      "pts_vector:  [[6559761]\n",
      " [6559762]\n",
      " [6559763]\n",
      " ...\n",
      " [7028312]\n",
      " [7028313]\n",
      " [7028314]]\n",
      "nn.shape:  (468554,)\n",
      "pts_vector[250]:  [7028565]\n",
      "nn_np_padded[250]:  [7026890 7026891 7028564 7028565 7028566 7030243 7030244 7030245 7031945\n",
      " 7031946 8621141 8622242 8622243 8622244 8623345 8623346 8623347 8624436\n",
      " 8624437 13301610 13301611 13302859 13302860 13302861 13304128 13304129\n",
      " 13304130 nan nan nan nan nan nan nan nan nan nan nan nan nan nan nan nan\n",
      " nan nan nan]\n",
      "nn_np_padded[250]:  [7026890 7026891 7028564 nan 7028566 7030243 7030244 7030245 7031945\n",
      " 7031946 8621141 8622242 8622243 8622244 8623345 8623346 8623347 8624436\n",
      " 8624437 13301610 13301611 13302859 13302860 13302861 13304128 13304129\n",
      " 13304130 nan nan nan nan nan nan nan nan nan nan nan nan nan nan nan nan\n",
      " nan nan nan]\n"
     ]
    },
    {
     "name": "stderr",
     "output_type": "stream",
     "text": [
      "Processing bins:  40%|████      | 16/40 [01:13<02:12,  5.54s/it]"
     ]
    },
    {
     "name": "stdout",
     "output_type": "stream",
     "text": [
      "start, end:  7028315 7496869\n",
      "pts_vector.shape:  (468554, 1)\n",
      "pts_vector:  [[7028315]\n",
      " [7028316]\n",
      " [7028317]\n",
      " ...\n",
      " [7496866]\n",
      " [7496867]\n",
      " [7496868]]\n",
      "nn.shape:  (468554,)\n",
      "pts_vector[250]:  [7497119]\n",
      "nn_np_padded[250]:  [7494321 7495733 7495734 7495735 7497118 7497119 7497120 7498508 7498509\n",
      " 12041024 12041025 12041026 12042216 12042217 12042218 12042219 12043407\n",
      " 12043408 12043409 12044593 12044594 13602124 13603497 13603498 13603499\n",
      " 13604883 13604884 13604885 13606256 13606257 nan nan nan nan nan nan nan\n",
      " nan nan nan nan nan nan nan nan nan nan nan nan nan nan nan nan nan nan\n",
      " nan nan nan]\n",
      "nn_np_padded[250]:  [7494321 7495733 7495734 7495735 7497118 nan 7497120 7498508 7498509\n",
      " 12041024 12041025 12041026 12042216 12042217 12042218 12042219 12043407\n",
      " 12043408 12043409 12044593 12044594 13602124 13603497 13603498 13603499\n",
      " 13604883 13604884 13604885 13606256 13606257 nan nan nan nan nan nan nan\n",
      " nan nan nan nan nan nan nan nan nan nan nan nan nan nan nan nan nan nan\n",
      " nan nan nan]\n"
     ]
    },
    {
     "name": "stderr",
     "output_type": "stream",
     "text": [
      "Processing bins:  42%|████▎     | 17/40 [01:19<02:09,  5.65s/it]"
     ]
    },
    {
     "name": "stdout",
     "output_type": "stream",
     "text": [
      "start, end:  7496869 7965424\n",
      "pts_vector.shape:  (468555, 1)\n",
      "pts_vector:  [[7496869]\n",
      " [7496870]\n",
      " [7496871]\n",
      " ...\n",
      " [7965421]\n",
      " [7965422]\n",
      " [7965423]]\n",
      "nn.shape:  (468555,)\n",
      "pts_vector[250]:  [7965674]\n",
      "nn_np_padded[250]:  [7964823 7965671 7965674 7965677 7966548 7966549 7966551 12364877 12364881\n",
      " 12366121 12366123 12366127 12367357 12367359 12367363 nan nan nan nan nan\n",
      " nan nan nan nan nan nan nan nan nan nan nan nan nan nan nan nan nan nan\n",
      " nan nan nan nan nan nan nan nan nan nan nan nan nan nan nan nan nan nan\n",
      " nan nan]\n",
      "nn_np_padded[250]:  [7964823 7965671 nan 7965677 7966548 7966549 7966551 12364877 12364881\n",
      " 12366121 12366123 12366127 12367357 12367359 12367363 nan nan nan nan nan\n",
      " nan nan nan nan nan nan nan nan nan nan nan nan nan nan nan nan nan nan\n",
      " nan nan nan nan nan nan nan nan nan nan nan nan nan nan nan nan nan nan\n",
      " nan nan]\n"
     ]
    },
    {
     "name": "stderr",
     "output_type": "stream",
     "text": [
      "Processing bins:  45%|████▌     | 18/40 [01:24<02:05,  5.72s/it]"
     ]
    },
    {
     "name": "stdout",
     "output_type": "stream",
     "text": [
      "start, end:  7965424 8433978\n",
      "pts_vector.shape:  (468554, 1)\n",
      "pts_vector:  [[7965424]\n",
      " [7965425]\n",
      " [7965426]\n",
      " ...\n",
      " [8433975]\n",
      " [8433976]\n",
      " [8433977]]\n",
      "nn.shape:  (468554,)\n",
      "pts_vector[250]:  [8434228]\n",
      "nn_np_padded[250]:  [7299691 7301232 7301233 7301234 7302775 7302776 7302777 7304323 8433205\n",
      " 8433206 8433207 8434227 8434228 8434229 8435233 8435234 8435235 13056719\n",
      " 13056720 13057879 13057880 13057881 13059036 13059037 13059038 nan nan\n",
      " nan nan nan nan nan nan nan nan nan nan nan nan nan nan nan nan nan nan\n",
      " nan nan nan]\n",
      "nn_np_padded[250]:  [7299691 7301232 7301233 7301234 7302775 7302776 7302777 7304323 8433205\n",
      " 8433206 8433207 8434227 nan 8434229 8435233 8435234 8435235 13056719\n",
      " 13056720 13057879 13057880 13057881 13059036 13059037 13059038 nan nan\n",
      " nan nan nan nan nan nan nan nan nan nan nan nan nan nan nan nan nan nan\n",
      " nan nan nan]\n"
     ]
    },
    {
     "name": "stderr",
     "output_type": "stream",
     "text": [
      "Processing bins:  48%|████▊     | 19/40 [01:30<01:58,  5.63s/it]"
     ]
    },
    {
     "name": "stdout",
     "output_type": "stream",
     "text": [
      "start, end:  8433978 8902532\n",
      "pts_vector.shape:  (468554, 1)\n",
      "pts_vector:  [[8433978]\n",
      " [8433979]\n",
      " [8433980]\n",
      " ...\n",
      " [8902529]\n",
      " [8902530]\n",
      " [8902531]]\n",
      "nn.shape:  (468554,)\n",
      "pts_vector[250]:  [8902782]\n",
      "nn_np_padded[250]:  [8901729 8901730 8902781 8902782 8902783 8903842 8903843 13324711 13324712\n",
      " 13325951 13325952 13325953 13325954 13327190 13327191 13327192 nan nan\n",
      " nan nan nan nan nan nan nan nan nan nan nan nan nan nan nan nan nan nan\n",
      " nan nan nan nan nan nan nan nan nan nan nan]\n",
      "nn_np_padded[250]:  [8901729 8901730 8902781 nan 8902783 8903842 8903843 13324711 13324712\n",
      " 13325951 13325952 13325953 13325954 13327190 13327191 13327192 nan nan\n",
      " nan nan nan nan nan nan nan nan nan nan nan nan nan nan nan nan nan nan\n",
      " nan nan nan nan nan nan nan nan nan nan nan]\n"
     ]
    },
    {
     "name": "stderr",
     "output_type": "stream",
     "text": [
      "Processing bins:  50%|█████     | 20/40 [01:35<01:51,  5.58s/it]"
     ]
    },
    {
     "name": "stdout",
     "output_type": "stream",
     "text": [
      "start, end:  8902532 9371086\n",
      "pts_vector.shape:  (468554, 1)\n",
      "pts_vector:  [[8902532]\n",
      " [8902533]\n",
      " [8902534]\n",
      " ...\n",
      " [9371083]\n",
      " [9371084]\n",
      " [9371085]]\n",
      "nn.shape:  (468554,)\n",
      "pts_vector[250]:  [9371336]\n",
      "nn_np_padded[250]:  [9368939 9370146 9370147 9370148 9371335 9371336 9371337 9372499 9372500\n",
      " 14080693 14080695 14081771 14081772 14081774 14082863 14082865 14082867\n",
      " 14083937 14083939 nan nan nan nan nan nan nan nan nan nan nan nan nan nan\n",
      " nan nan nan nan nan nan nan nan nan nan nan nan nan nan nan]\n",
      "nn_np_padded[250]:  [9368939 9370146 9370147 9370148 9371335 nan 9371337 9372499 9372500\n",
      " 14080693 14080695 14081771 14081772 14081774 14082863 14082865 14082867\n",
      " 14083937 14083939 nan nan nan nan nan nan nan nan nan nan nan nan nan nan\n",
      " nan nan nan nan nan nan nan nan nan nan nan nan nan nan nan]\n"
     ]
    },
    {
     "name": "stderr",
     "output_type": "stream",
     "text": [
      "Processing bins:  52%|█████▎    | 21/40 [01:41<01:47,  5.63s/it]"
     ]
    },
    {
     "name": "stdout",
     "output_type": "stream",
     "text": [
      "start, end:  9371086 9839641\n",
      "pts_vector.shape:  (468555, 1)\n",
      "pts_vector:  [[9371086]\n",
      " [9371087]\n",
      " [9371088]\n",
      " ...\n",
      " [9839638]\n",
      " [9839639]\n",
      " [9839640]]\n",
      "nn.shape:  (468555,)\n",
      "pts_vector[250]:  [9839891]\n",
      "nn_np_padded[250]:  [9838654 9839891 9841128 14972558 14972559 14973239 14973884 nan nan nan\n",
      " nan nan nan nan nan nan nan nan nan nan nan nan nan nan nan nan nan nan\n",
      " nan nan nan nan nan nan nan nan nan nan nan nan nan nan nan nan nan nan]\n",
      "nn_np_padded[250]:  [9838654 nan 9841128 14972558 14972559 14973239 14973884 nan nan nan nan\n",
      " nan nan nan nan nan nan nan nan nan nan nan nan nan nan nan nan nan nan\n",
      " nan nan nan nan nan nan nan nan nan nan nan nan nan nan nan nan nan]\n"
     ]
    },
    {
     "name": "stderr",
     "output_type": "stream",
     "text": [
      "Processing bins:  55%|█████▌    | 22/40 [01:46<01:38,  5.47s/it]"
     ]
    },
    {
     "name": "stdout",
     "output_type": "stream",
     "text": [
      "start, end:  9839641 10308195\n",
      "pts_vector.shape:  (468554, 1)\n",
      "pts_vector:  [[ 9839641]\n",
      " [ 9839642]\n",
      " [ 9839643]\n",
      " ...\n",
      " [10308192]\n",
      " [10308193]\n",
      " [10308194]]\n",
      "nn.shape:  (468554,)\n",
      "pts_vector[250]:  [10308445]\n",
      "nn_np_padded[250]:  [6020536 6022299 10306759 10308441 10308445 nan nan nan nan nan nan nan\n",
      " nan nan nan nan nan nan nan nan nan nan nan nan nan nan nan nan nan nan\n",
      " nan nan nan nan nan nan nan nan nan nan nan nan nan nan nan nan nan nan]\n",
      "nn_np_padded[250]:  [6020536 6022299 10306759 10308441 nan nan nan nan nan nan nan nan nan nan\n",
      " nan nan nan nan nan nan nan nan nan nan nan nan nan nan nan nan nan nan\n",
      " nan nan nan nan nan nan nan nan nan nan nan nan nan nan nan nan]\n"
     ]
    },
    {
     "name": "stderr",
     "output_type": "stream",
     "text": [
      "Processing bins:  57%|█████▊    | 23/40 [01:51<01:31,  5.36s/it]"
     ]
    },
    {
     "name": "stdout",
     "output_type": "stream",
     "text": [
      "start, end:  10308195 10776749\n",
      "pts_vector.shape:  (468554, 1)\n",
      "pts_vector:  [[10308195]\n",
      " [10308196]\n",
      " [10308197]\n",
      " ...\n",
      " [10776746]\n",
      " [10776747]\n",
      " [10776748]]\n",
      "nn.shape:  (468554,)\n",
      "pts_vector[250]:  [10776999]\n",
      "nn_np_padded[250]:  [6094793 6096446 6096448 6096450 6098106 6098107 6098109 6098111 6099774\n",
      " 9360528 9360529 9361677 9361678 9361679 9362829 9362830 9363998 10774033\n",
      " 10774034 10775529 10775530 10775532 10776997 10776999 10777001 10778442\n",
      " 10778444 10778445 14625463 14625464 14625465 14626675 14626676 14627868\n",
      " 14627869 nan nan nan nan nan nan nan nan nan nan nan nan nan]\n",
      "nn_np_padded[250]:  [6094793 6096446 6096448 6096450 6098106 6098107 6098109 6098111 6099774\n",
      " 9360528 9360529 9361677 9361678 9361679 9362829 9362830 9363998 10774033\n",
      " 10774034 10775529 10775530 10775532 10776997 nan 10777001 10778442\n",
      " 10778444 10778445 14625463 14625464 14625465 14626675 14626676 14627868\n",
      " 14627869 nan nan nan nan nan nan nan nan nan nan nan nan nan]\n"
     ]
    },
    {
     "name": "stderr",
     "output_type": "stream",
     "text": [
      "Processing bins:  60%|██████    | 24/40 [01:57<01:26,  5.39s/it]"
     ]
    },
    {
     "name": "stdout",
     "output_type": "stream",
     "text": [
      "start, end:  10776749 11245304\n",
      "pts_vector.shape:  (468555, 1)\n",
      "pts_vector:  [[10776749]\n",
      " [10776750]\n",
      " [10776751]\n",
      " ...\n",
      " [11245301]\n",
      " [11245302]\n",
      " [11245303]]\n",
      "nn.shape:  (468555,)\n",
      "pts_vector[250]:  [11245554]\n",
      "nn_np_padded[250]:  [6924629 6924630 6926308 6926309 6926310 6927953 6927954 6927955 6929608\n",
      " 6929609 6929610 11242794 11242795 11244181 11244182 11244183 11244184\n",
      " 11245553 11245554 11245555 11246922 11246923 11246924 nan nan nan nan nan\n",
      " nan nan nan nan nan nan nan nan nan nan nan nan nan nan nan nan nan nan\n",
      " nan nan]\n",
      "nn_np_padded[250]:  [6924629 6924630 6926308 6926309 6926310 6927953 6927954 6927955 6929608\n",
      " 6929609 6929610 11242794 11242795 11244181 11244182 11244183 11244184\n",
      " 11245553 nan 11245555 11246922 11246923 11246924 nan nan nan nan nan nan\n",
      " nan nan nan nan nan nan nan nan nan nan nan nan nan nan nan nan nan nan\n",
      " nan]\n"
     ]
    },
    {
     "name": "stderr",
     "output_type": "stream",
     "text": [
      "Processing bins:  62%|██████▎   | 25/40 [02:02<01:20,  5.40s/it]"
     ]
    },
    {
     "name": "stdout",
     "output_type": "stream",
     "text": [
      "start, end:  11245304 11713858\n",
      "pts_vector.shape:  (468554, 1)\n",
      "pts_vector:  [[11245304]\n",
      " [11245305]\n",
      " [11245306]\n",
      " ...\n",
      " [11713855]\n",
      " [11713856]\n",
      " [11713857]]\n",
      "nn.shape:  (468554,)\n",
      "pts_vector[250]:  [11714108]\n",
      "nn_np_padded[250]:  [6626564 6626565 6627866 6627867 6627868 6629166 6629167 6630450 6630451\n",
      " 8938515 8938516 8938517 8939574 8939575 8939576 8940614 8940615 8940616\n",
      " 11712664 11712665 11714107 11714108 11714109 11715548 11715549 11715550\n",
      " 11716988 13809019 13809020 13810309 13810310 13810311 13811612 13811613\n",
      " 13811614 13812904 13812905 13814166 nan nan nan nan nan nan nan nan nan\n",
      " nan]\n",
      "nn_np_padded[250]:  [6626564 6626565 6627866 6627867 6627868 6629166 6629167 6630450 6630451\n",
      " 8938515 8938516 8938517 8939574 8939575 8939576 8940614 8940615 8940616\n",
      " 11712664 11712665 11714107 nan 11714109 11715548 11715549 11715550\n",
      " 11716988 13809019 13809020 13810309 13810310 13810311 13811612 13811613\n",
      " 13811614 13812904 13812905 13814166 nan nan nan nan nan nan nan nan nan\n",
      " nan]\n"
     ]
    },
    {
     "name": "stderr",
     "output_type": "stream",
     "text": [
      "Processing bins:  65%|██████▌   | 26/40 [02:08<01:15,  5.39s/it]"
     ]
    },
    {
     "name": "stdout",
     "output_type": "stream",
     "text": [
      "start, end:  11713858 12182412\n",
      "pts_vector.shape:  (468554, 1)\n",
      "pts_vector:  [[11713858]\n",
      " [11713859]\n",
      " [11713860]\n",
      " ...\n",
      " [12182409]\n",
      " [12182410]\n",
      " [12182411]]\n",
      "nn.shape:  (468554,)\n",
      "pts_vector[250]:  [12182662]\n",
      "nn_np_padded[250]:  [7319116 7319117 7320641 7320642 7320643 7322187 7322188 7322189 7323718\n",
      " 7323719 8470593 8470594 8471655 8471656 8471657 8472732 8472733 8472734\n",
      " 8473799 8473800 12180312 12180313 12181484 12181485 12182661 12182662\n",
      " 12182663 12183844 12183845 12183846 13406402 13407677 13407678 13407679\n",
      " 13408984 13408985 13410324 13410325 nan nan nan nan nan nan nan nan]\n",
      "nn_np_padded[250]:  [7319116 7319117 7320641 7320642 7320643 7322187 7322188 7322189 7323718\n",
      " 7323719 8470593 8470594 8471655 8471656 8471657 8472732 8472733 8472734\n",
      " 8473799 8473800 12180312 12180313 12181484 12181485 12182661 nan 12182663\n",
      " 12183844 12183845 12183846 13406402 13407677 13407678 13407679 13408984\n",
      " 13408985 13410324 13410325 nan nan nan nan nan nan nan nan]\n"
     ]
    },
    {
     "name": "stderr",
     "output_type": "stream",
     "text": [
      "Processing bins:  68%|██████▊   | 27/40 [02:13<01:10,  5.41s/it]"
     ]
    },
    {
     "name": "stdout",
     "output_type": "stream",
     "text": [
      "start, end:  12182412 12650967\n",
      "pts_vector.shape:  (468555, 1)\n",
      "pts_vector:  [[12182412]\n",
      " [12182413]\n",
      " [12182414]\n",
      " ...\n",
      " [12650964]\n",
      " [12650965]\n",
      " [12650966]]\n",
      "nn.shape:  (468555,)\n",
      "pts_vector[250]:  [12651217]\n",
      "nn_np_padded[250]:  [8041823 8041825 12651217 12651219 nan nan nan nan nan nan nan nan nan nan\n",
      " nan nan nan nan nan nan nan nan nan nan nan nan nan nan nan nan nan nan\n",
      " nan nan nan nan nan nan nan nan nan nan nan nan nan nan nan nan nan nan\n",
      " nan nan nan nan nan nan nan]\n",
      "nn_np_padded[250]:  [8041823 8041825 nan 12651219 nan nan nan nan nan nan nan nan nan nan nan\n",
      " nan nan nan nan nan nan nan nan nan nan nan nan nan nan nan nan nan nan\n",
      " nan nan nan nan nan nan nan nan nan nan nan nan nan nan nan nan nan nan\n",
      " nan nan nan nan nan nan]\n"
     ]
    },
    {
     "name": "stderr",
     "output_type": "stream",
     "text": [
      "Processing bins:  70%|███████   | 28/40 [02:19<01:06,  5.54s/it]"
     ]
    },
    {
     "name": "stdout",
     "output_type": "stream",
     "text": [
      "start, end:  12650967 13119521\n",
      "pts_vector.shape:  (468554, 1)\n",
      "pts_vector:  [[12650967]\n",
      " [12650968]\n",
      " [12650969]\n",
      " ...\n",
      " [13119518]\n",
      " [13119519]\n",
      " [13119520]]\n",
      "nn.shape:  (468554,)\n",
      "pts_vector[250]:  [13119771]\n",
      "nn_np_padded[250]:  [8624171 8625241 8625242 8626304 13118541 13118543 13119771 13119773\n",
      " 13120990 13120992 nan nan nan nan nan nan nan nan nan nan nan nan nan nan\n",
      " nan nan nan nan nan nan nan nan nan nan nan nan nan nan nan nan nan nan\n",
      " nan nan nan nan]\n",
      "nn_np_padded[250]:  [8624171 8625241 8625242 8626304 13118541 13118543 nan 13119773 13120990\n",
      " 13120992 nan nan nan nan nan nan nan nan nan nan nan nan nan nan nan nan\n",
      " nan nan nan nan nan nan nan nan nan nan nan nan nan nan nan nan nan nan\n",
      " nan nan]\n"
     ]
    },
    {
     "name": "stderr",
     "output_type": "stream",
     "text": [
      "Processing bins:  72%|███████▎  | 29/40 [02:24<01:00,  5.48s/it]"
     ]
    },
    {
     "name": "stdout",
     "output_type": "stream",
     "text": [
      "start, end:  13119521 13588075\n",
      "pts_vector.shape:  (468554, 1)\n",
      "pts_vector:  [[13119521]\n",
      " [13119522]\n",
      " [13119523]\n",
      " ...\n",
      " [13588072]\n",
      " [13588073]\n",
      " [13588074]]\n",
      "nn.shape:  (468554,)\n",
      "pts_vector[250]:  [13588325]\n",
      "nn_np_padded[250]:  [7483213 7484609 7484610 7484611 7485998 7485999 7486000 7487389 7487390\n",
      " 12050528 12051735 12051736 12051737 12052947 12052948 12052949 12054157\n",
      " 12054158 12054159 12055366 12055367 13585511 13586907 13586908 13586909\n",
      " 13588324 13588325 13588326 13589713 13589714 nan nan nan nan nan nan nan\n",
      " nan nan nan nan nan nan nan nan nan nan nan nan nan]\n",
      "nn_np_padded[250]:  [7483213 7484609 7484610 7484611 7485998 7485999 7486000 7487389 7487390\n",
      " 12050528 12051735 12051736 12051737 12052947 12052948 12052949 12054157\n",
      " 12054158 12054159 12055366 12055367 13585511 13586907 13586908 13586909\n",
      " 13588324 nan 13588326 13589713 13589714 nan nan nan nan nan nan nan nan\n",
      " nan nan nan nan nan nan nan nan nan nan nan nan]\n"
     ]
    },
    {
     "name": "stderr",
     "output_type": "stream",
     "text": [
      "Processing bins:  75%|███████▌  | 30/40 [02:30<00:56,  5.68s/it]"
     ]
    },
    {
     "name": "stdout",
     "output_type": "stream",
     "text": [
      "start, end:  13588075 14056630\n",
      "pts_vector.shape:  (468555, 1)\n",
      "pts_vector:  [[13588075]\n",
      " [13588076]\n",
      " [13588077]\n",
      " ...\n",
      " [14056627]\n",
      " [14056628]\n",
      " [14056629]]\n",
      "nn.shape:  (468555,)\n",
      "pts_vector[250]:  [14056880]\n",
      "nn_np_padded[250]:  [6140839 6142757 6142759 6144653 6144654 9223612 9223613 9224711 9224712\n",
      " 9224713 9225818 9225819 9225820 9226904 9226905 11372864 11372866\n",
      " 11374217 11374218 11374220 11375595 11375597 11375600 11376987 11376990\n",
      " 11376992 14054587 14055726 14055727 14055728 14056879 14056880 14056881\n",
      " 14058025 14058026 14058027 nan nan nan nan nan nan nan nan nan nan nan\n",
      " nan]\n",
      "nn_np_padded[250]:  [6140839 6142757 6142759 6144653 6144654 9223612 9223613 9224711 9224712\n",
      " 9224713 9225818 9225819 9225820 9226904 9226905 11372864 11372866\n",
      " 11374217 11374218 11374220 11375595 11375597 11375600 11376987 11376990\n",
      " 11376992 14054587 14055726 14055727 14055728 14056879 nan 14056881\n",
      " 14058025 14058026 14058027 nan nan nan nan nan nan nan nan nan nan nan\n",
      " nan]\n"
     ]
    },
    {
     "name": "stderr",
     "output_type": "stream",
     "text": [
      "Processing bins:  78%|███████▊  | 31/40 [02:36<00:51,  5.76s/it]"
     ]
    },
    {
     "name": "stdout",
     "output_type": "stream",
     "text": [
      "start, end:  14056630 14525184\n",
      "pts_vector.shape:  (468554, 1)\n",
      "pts_vector:  [[14056630]\n",
      " [14056631]\n",
      " [14056632]\n",
      " ...\n",
      " [14525181]\n",
      " [14525182]\n",
      " [14525183]]\n",
      "nn.shape:  (468554,)\n",
      "pts_vector[250]:  [14525434]\n",
      "nn_np_padded[250]:  [9967133 9967134 9967135 9968020 9968021 9968022 9968882 9968883 9968884\n",
      " 9968885 9969729 14524180 14524181 14524182 14525433 14525434 14525435\n",
      " 14526659 14526660 14526661 14527912 14527913 14527914 nan nan nan nan nan\n",
      " nan nan nan nan nan nan nan nan nan nan nan nan nan nan nan nan nan nan\n",
      " nan]\n",
      "nn_np_padded[250]:  [9967133 9967134 9967135 9968020 9968021 9968022 9968882 9968883 9968884\n",
      " 9968885 9969729 14524180 14524181 14524182 14525433 nan 14525435 14526659\n",
      " 14526660 14526661 14527912 14527913 14527914 nan nan nan nan nan nan nan\n",
      " nan nan nan nan nan nan nan nan nan nan nan nan nan nan nan nan nan]\n"
     ]
    },
    {
     "name": "stderr",
     "output_type": "stream",
     "text": [
      "Processing bins:  80%|████████  | 32/40 [02:42<00:45,  5.67s/it]"
     ]
    },
    {
     "name": "stdout",
     "output_type": "stream",
     "text": [
      "start, end:  14525184 14993738\n",
      "pts_vector.shape:  (468554, 1)\n",
      "pts_vector:  [[14525184]\n",
      " [14525185]\n",
      " [14525186]\n",
      " ...\n",
      " [14993735]\n",
      " [14993736]\n",
      " [14993737]]\n",
      "nn.shape:  (468554,)\n",
      "pts_vector[250]:  [14993988]\n",
      "nn_np_padded[250]:  [5390219 5390220 5390221 5390782 5390783 5391351 5391353 9970330 9970331\n",
      " 9971135 9971136 9971137 9971921 9971922 9972706 9972707 10153549 10154745\n",
      " 10154747 10155901 10155903 10157121 14993411 14993412 14993987 14993988\n",
      " 14993989 14994532 14994533 nan nan nan nan nan nan nan nan nan nan nan\n",
      " nan nan nan nan nan nan]\n",
      "nn_np_padded[250]:  [5390219 5390220 5390221 5390782 5390783 5391351 5391353 9970330 9970331\n",
      " 9971135 9971136 9971137 9971921 9971922 9972706 9972707 10153549 10154745\n",
      " 10154747 10155901 10155903 10157121 14993411 14993412 14993987 nan\n",
      " 14993989 14994532 14994533 nan nan nan nan nan nan nan nan nan nan nan\n",
      " nan nan nan nan nan nan]\n"
     ]
    },
    {
     "name": "stderr",
     "output_type": "stream",
     "text": [
      "Processing bins:  82%|████████▎ | 33/40 [02:47<00:37,  5.41s/it]"
     ]
    },
    {
     "name": "stdout",
     "output_type": "stream",
     "text": [
      "start, end:  14993738 15462293\n",
      "pts_vector.shape:  (468555, 1)\n",
      "pts_vector:  [[14993738]\n",
      " [14993739]\n",
      " [14993740]\n",
      " ...\n",
      " [15462290]\n",
      " [15462291]\n",
      " [15462292]]\n",
      "nn.shape:  (468555,)\n",
      "pts_vector[250]:  [15462543]\n",
      "nn_np_padded[250]:  [15461196 15461197 15461198 15461199 15462542 15462543 15462544 15463879\n",
      " 15463880 15463881 16188039 16188040 16188041 16189451 16189452 16189453\n",
      " 16190873 16190874 16190875 nan nan nan nan nan nan nan nan nan nan]\n",
      "nn_np_padded[250]:  [15461196 15461197 15461198 15461199 15462542 nan 15462544 15463879\n",
      " 15463880 15463881 16188039 16188040 16188041 16189451 16189452 16189453\n",
      " 16190873 16190874 16190875 nan nan nan nan nan nan nan nan nan nan]\n"
     ]
    },
    {
     "name": "stderr",
     "output_type": "stream",
     "text": [
      "Processing bins:  85%|████████▌ | 34/40 [02:50<00:29,  4.86s/it]"
     ]
    },
    {
     "name": "stdout",
     "output_type": "stream",
     "text": [
      "start, end:  15462293 15930847\n",
      "pts_vector.shape:  (468554, 1)\n",
      "pts_vector:  [[15462293]\n",
      " [15462294]\n",
      " [15462295]\n",
      " ...\n",
      " [15930844]\n",
      " [15930845]\n",
      " [15930846]]\n",
      "nn.shape:  (468554,)\n",
      "pts_vector[250]:  [15931097]\n",
      "nn_np_padded[250]:  [15042512 15042515 15042758 15042760 15042761 15043012 15043014 15043016\n",
      " 15928356 15928358 15929724 15929725 15929727 15929728 15931095 15931097\n",
      " 15931099 15932469 15932471 15932473 nan nan nan nan nan nan nan nan nan]\n",
      "nn_np_padded[250]:  [15042512 15042515 15042758 15042760 15042761 15043012 15043014 15043016\n",
      " 15928356 15928358 15929724 15929725 15929727 15929728 15931095 nan\n",
      " 15931099 15932469 15932471 15932473 nan nan nan nan nan nan nan nan nan]\n"
     ]
    },
    {
     "name": "stderr",
     "output_type": "stream",
     "text": [
      "Processing bins:  88%|████████▊ | 35/40 [02:54<00:22,  4.50s/it]"
     ]
    },
    {
     "name": "stdout",
     "output_type": "stream",
     "text": [
      "start, end:  15930847 16399401\n",
      "pts_vector.shape:  (468554, 1)\n",
      "pts_vector:  [[15930847]\n",
      " [15930848]\n",
      " [15930849]\n",
      " ...\n",
      " [16399398]\n",
      " [16399399]\n",
      " [16399400]]\n",
      "nn.shape:  (468554,)\n",
      "pts_vector[250]:  [16399651]\n",
      "nn_np_padded[250]:  [15497516 15497521 15498884 15498888 15498893 16398727 16398730 16399648\n",
      " 16399651 16399656 16400589 16400592 nan nan nan nan nan nan nan nan nan\n",
      " nan nan nan nan nan nan nan nan nan nan nan nan nan nan nan nan nan nan\n",
      " nan nan nan nan nan nan nan nan nan nan nan nan nan]\n",
      "nn_np_padded[250]:  [15497516 15497521 15498884 15498888 15498893 16398727 16398730 16399648\n",
      " nan 16399656 16400589 16400592 nan nan nan nan nan nan nan nan nan nan\n",
      " nan nan nan nan nan nan nan nan nan nan nan nan nan nan nan nan nan nan\n",
      " nan nan nan nan nan nan nan nan nan nan nan nan]\n"
     ]
    },
    {
     "name": "stderr",
     "output_type": "stream",
     "text": [
      "Processing bins:  90%|█████████ | 36/40 [02:59<00:18,  4.64s/it]"
     ]
    },
    {
     "name": "stdout",
     "output_type": "stream",
     "text": [
      "start, end:  16399401 16867956\n",
      "pts_vector.shape:  (468555, 1)\n",
      "pts_vector:  [[16399401]\n",
      " [16399402]\n",
      " [16399403]\n",
      " ...\n",
      " [16867953]\n",
      " [16867954]\n",
      " [16867955]]\n",
      "nn.shape:  (468555,)\n",
      "pts_vector[250]:  [16868206]\n",
      "nn_np_padded[250]:  [16866950 16868206 17909757 17911133 nan nan nan nan nan nan nan nan nan\n",
      " nan nan nan nan nan nan nan nan nan nan nan nan nan nan nan nan nan nan\n",
      " nan nan nan nan nan nan nan nan nan nan nan nan nan nan nan nan]\n",
      "nn_np_padded[250]:  [16866950 nan 17909757 17911133 nan nan nan nan nan nan nan nan nan nan\n",
      " nan nan nan nan nan nan nan nan nan nan nan nan nan nan nan nan nan nan\n",
      " nan nan nan nan nan nan nan nan nan nan nan nan nan nan nan]\n"
     ]
    },
    {
     "name": "stderr",
     "output_type": "stream",
     "text": [
      "Processing bins:  92%|█████████▎| 37/40 [03:04<00:14,  4.75s/it]"
     ]
    },
    {
     "name": "stdout",
     "output_type": "stream",
     "text": [
      "start, end:  16867956 17336510\n",
      "pts_vector.shape:  (468554, 1)\n",
      "pts_vector:  [[16867956]\n",
      " [16867957]\n",
      " [16867958]\n",
      " ...\n",
      " [17336507]\n",
      " [17336508]\n",
      " [17336509]]\n",
      "nn.shape:  (468554,)\n",
      "pts_vector[250]:  [17336760]\n",
      "nn_np_padded[250]:  [16536453 16536454 16537237 16537238 16537239 16538016 16538017 17335658\n",
      " 17335659 17335660 17336759 17336760 17336761 17337858 17337859 17337860\n",
      " 17338959 18148905 18148906 18149853 18149854 18149855 18150784 18150785\n",
      " 18150786 18525737 18525738 18526757 18526758 18526759 18527795 18527796\n",
      " 18527797 18528834 18528835 18528836 18529876 nan nan nan nan nan nan nan\n",
      " nan nan nan nan nan nan nan nan nan nan]\n",
      "nn_np_padded[250]:  [16536453 16536454 16537237 16537238 16537239 16538016 16538017 17335658\n",
      " 17335659 17335660 17336759 nan 17336761 17337858 17337859 17337860\n",
      " 17338959 18148905 18148906 18149853 18149854 18149855 18150784 18150785\n",
      " 18150786 18525737 18525738 18526757 18526758 18526759 18527795 18527796\n",
      " 18527797 18528834 18528835 18528836 18529876 nan nan nan nan nan nan nan\n",
      " nan nan nan nan nan nan nan nan nan nan]\n"
     ]
    },
    {
     "name": "stderr",
     "output_type": "stream",
     "text": [
      "Processing bins:  95%|█████████▌| 38/40 [03:09<00:09,  4.93s/it]"
     ]
    },
    {
     "name": "stdout",
     "output_type": "stream",
     "text": [
      "start, end:  17336510 17805064\n",
      "pts_vector.shape:  (468554, 1)\n",
      "pts_vector:  [[17336510]\n",
      " [17336511]\n",
      " [17336512]\n",
      " ...\n",
      " [17805061]\n",
      " [17805062]\n",
      " [17805063]]\n",
      "nn.shape:  (468554,)\n",
      "pts_vector[250]:  [17805314]\n",
      "nn_np_padded[250]:  [16931542 16931543 16931544 16932474 16932475 16932476 16933396 16933397\n",
      " 16933398 17802575 17802576 17803936 17803937 17803938 17805313 17805314\n",
      " 17805315 17806683 17806684 17806685 nan nan nan nan nan nan nan nan nan\n",
      " nan nan nan nan nan nan nan nan nan nan nan nan nan nan nan nan nan nan\n",
      " nan nan nan nan nan]\n",
      "nn_np_padded[250]:  [16931542 16931543 16931544 16932474 16932475 16932476 16933396 16933397\n",
      " 16933398 17802575 17802576 17803936 17803937 17803938 17805313 nan\n",
      " 17805315 17806683 17806684 17806685 nan nan nan nan nan nan nan nan nan\n",
      " nan nan nan nan nan nan nan nan nan nan nan nan nan nan nan nan nan nan\n",
      " nan nan nan nan nan]\n"
     ]
    },
    {
     "name": "stderr",
     "output_type": "stream",
     "text": [
      "Processing bins:  98%|█████████▊| 39/40 [03:14<00:04,  4.98s/it]"
     ]
    },
    {
     "name": "stdout",
     "output_type": "stream",
     "text": [
      "start, end:  17805064 18273619\n",
      "pts_vector.shape:  (468555, 1)\n",
      "pts_vector:  [[17805064]\n",
      " [17805065]\n",
      " [17805066]\n",
      " ...\n",
      " [18273616]\n",
      " [18273617]\n",
      " [18273618]]\n",
      "nn.shape:  (468555,)\n",
      "pts_vector[250]:  [18273869]\n",
      "nn_np_padded[250]:  [17190927 17190928 17191816 17191817 17191818 17192731 17192732 17192733\n",
      " 17193637 17193638 17193639 18273272 18273578 18273579 18273580 18273868\n",
      " 18273869 18273870 18274156 18274157 18274158 nan nan nan nan nan nan nan\n",
      " nan nan nan nan nan nan nan nan nan nan nan nan nan nan nan nan nan nan\n",
      " nan nan nan nan nan nan nan]\n",
      "nn_np_padded[250]:  [17190927 17190928 17191816 17191817 17191818 17192731 17192732 17192733\n",
      " 17193637 17193638 17193639 18273272 18273578 18273579 18273580 18273868\n",
      " nan 18273870 18274156 18274157 18274158 nan nan nan nan nan nan nan nan\n",
      " nan nan nan nan nan nan nan nan nan nan nan nan nan nan nan nan nan nan\n",
      " nan nan nan nan nan nan]\n"
     ]
    },
    {
     "name": "stderr",
     "output_type": "stream",
     "text": [
      "Processing bins: 100%|██████████| 40/40 [03:20<00:00,  5.01s/it]"
     ]
    },
    {
     "name": "stdout",
     "output_type": "stream",
     "text": [
      "start, end:  18273619 18742173\n",
      "pts_vector.shape:  (468554, 1)\n",
      "pts_vector:  [[18273619]\n",
      " [18273620]\n",
      " [18273621]\n",
      " ...\n",
      " [18742170]\n",
      " [18742171]\n",
      " [18742172]]\n",
      "nn.shape:  (468554,)\n",
      "(18742173, 1)\n"
     ]
    },
    {
     "name": "stderr",
     "output_type": "stream",
     "text": [
      "\n"
     ]
    }
   ],
   "source": [
    "confidence_scores = []\n",
    "count = 0\n",
    "point_count = 0\n",
    "for bin in tqdm(nn_bins, desc=\"Processing bins\"):\n",
    "\n",
    "    # if count != 15:\n",
    "    #     count += 1\n",
    "    #     continue\n",
    "    # else:\n",
    "    #     count += 1\n",
    "\n",
    "    # the query points numbers and their labels    \n",
    "    start, end = bin[0], bin[1]\n",
    "    pts = np.arange(start, end, step=1)\n",
    "    pts_vector = pts.reshape((-1, 1))\n",
    "    pts_labels = np.array(labels[pts])\n",
    "    pts_labels = pts_labels.reshape((-1, 1))  # reshaping it to a column vector -> easy to make comparison with neighbours\n",
    "\n",
    "    # neighbours information of query points\n",
    "    nn = tree.query_ball_point(xyz[start:end, :], r=0.5, p=2, workers=-1, return_sorted=True)\n",
    "\n",
    "    #   # should vectorize calculations so find the query point with max number of elements\n",
    "    max_length = max(len(lst) for lst in nn)\n",
    "    nn_np_padded = np.array([lst + [np.nan] * (max_length - len(lst)) for lst in nn], dtype=object)  # self points should be removed\n",
    "    nn_np_padded_float = nn_np_padded.astype(float)  # self points should be removed\n",
    "\n",
    "    print(\"pts_vector[250]: \", pts_vector[250])\n",
    "    print(\"nn_np_padded[250]: \", nn_np_padded[250])\n",
    "\n",
    "    # remove the search point itself from the neighbours by creating a mask\n",
    "    self_mask = (pts_vector == nn_np_padded_float)\n",
    "    nn_np_padded[self_mask] = np.nan\n",
    "    nn_np_padded_float[self_mask] = np.nan\n",
    "\n",
    "    print(\"nn_np_padded[250]: \", nn_np_padded[250])\n",
    "\n",
    "    # flattening the neighbours array \n",
    "    # so that it is easy to pass to labels and get the classificaitons\n",
    "    nn_np_padded_flat = nn_np_padded.reshape((1, -1))\n",
    "    nn_np_padded_float_flat = nn_np_padded_float.reshape((1, -1))\n",
    "    # nanMask ## True when the element is nan\n",
    "    nn_np_padded_float_flat_nanMask = np.isnan(nn_np_padded_float_flat)\n",
    "    nn_np_padded_Mask = ~np.isnan(nn_np_padded_float)\n",
    "\n",
    "    # replacing all the nan's with -1 index as a placeholder, later we can use mask again to filter them out \n",
    "    nn_np_padded_flat[nn_np_padded_float_flat_nanMask] = -1  # replacing all the nan's with -1, now we can use this variable to get neighbours classifications\n",
    "    nn_labels_flat_pHold = labels[list(nn_np_padded_flat[0])]\n",
    "    nn_labels_flat_pHold = np.array(nn_labels_flat_pHold)\n",
    "    # nn_labels_flat = nn_labels_flat_pHold *  ~nn_np_padded_float_flat_nanMask\n",
    "    nn_labels_flat = nn_labels_flat_pHold.copy()\n",
    "    nn_labels_flat_float = nn_labels_flat.astype(float)\n",
    "    nn_labels_flat_float[nn_np_padded_float_flat_nanMask[0]] = np.nan\n",
    "\n",
    "    # 2d array => no more flattened\n",
    "    nn_labels_float = nn_labels_flat_float.reshape((nn_np_padded.shape[0], -1))\n",
    "\n",
    "\n",
    "    # 1. compare pts_labels with nn_labels\n",
    "    match_pts_nn_bool = (pts_labels == nn_labels_float)\n",
    "    match_pts_nn_num = np.sum(match_pts_nn_bool, axis=1, keepdims=True) # number of points that match\n",
    "\n",
    "    # 2. nn_count, create nn mask to filter out the points which are not surrounded by many points\n",
    "    nn_count = np.sum(nn_np_padded_Mask, axis=1, keepdims=True)\n",
    "    nn_threshold_mask = (nn_count < nn_threshold)\n",
    "\n",
    "    # 3. calculating the confidences\n",
    "    confidences = match_pts_nn_num / nn_count \n",
    "    confidences[nn_threshold_mask] = 0\n",
    "    \n",
    "    # 4. combining all the bins together\n",
    "    confidence_scores.append(confidences)\n",
    "\n",
    "    print(\"start, end: \", start, end)\n",
    "    print(\"pts_vector.shape: \", pts_vector.shape)\n",
    "    print(\"pts_vector: \", pts_vector)\n",
    "    print(\"nn.shape: \", nn.shape)\n",
    "    # print()\n",
    "\n",
    "\n",
    "confidence_scores = np.vstack(confidence_scores)\n",
    "print(confidence_scores.shape)    "
   ]
  },
  {
   "cell_type": "code",
   "execution_count": null,
   "metadata": {},
   "outputs": [],
   "source": [
    "confidence_scores"
   ]
  },
  {
   "cell_type": "markdown",
   "metadata": {},
   "source": [
    "## Useless"
   ]
  },
  {
   "cell_type": "code",
   "execution_count": null,
   "metadata": {},
   "outputs": [],
   "source": [
    "confidence_scores = []\n",
    "count = 0\n",
    "point_count = 0\n",
    "\n",
    "for bin in tqdm(nn_bins, desc=\"Processing bins\"):\n",
    "\n",
    "    # the query points numbers and their labels \n",
    "    start, end = bin[0], bin[1]\n",
    "    pts = np.arange(start, end, step=1)\n",
    "    pts_vector = pts.reshape((-1, 1))\n",
    "    pts_labels = np.array(labels[pts])\n",
    "    pts_labels = pts_labels.reshape((-1, 1))  # reshaping it to a column vector -> easy to make comparison with neighbours\n",
    "\n",
    "    point_count += pts_vector.shape[0]\n",
    "\n",
    "\n",
    "    # # neighbours information of query points\n",
    "    # nn = tree.query_ball_point(xyz[start:end, :], r=0.5, p=2, workers=-1, return_sorted=True)\n",
    "\n",
    "    # #   # should vectorize calculations so find the query point with max number of elements\n",
    "    # max_length = max(len(lst) for lst in nn)\n",
    "    # nn_np_padded = np.array([lst + [np.nan] * (max_length - len(lst)) for lst in nn], dtype=object)  # self points should be removed\n",
    "    # nn_np_padded_float = nn_np_padded.astype(float)  # self points should be removed\n",
    "\n",
    "    # print(\"pts_vector[250]: \", pts_vector[250])\n",
    "    # print(\"nn_np_padded[250]: \", nn_np_padded[250])\n",
    "\n",
    "    # # remove the search point itself from the neighbours by creating a mask\n",
    "    # self_mask = (pts_vector == nn_np_padded_float)\n",
    "    # nn_np_padded[self_mask] = np.nan\n",
    "    # nn_np_padded_float[self_mask] = np.nan\n",
    "\n",
    "    # print(\"nn_np_padded[250]: \", nn_np_padded[250])\n",
    "\n",
    "    # # flattening the neighbours array \n",
    "    # # so that it is easy to pass to labels and get the classificaitons\n",
    "    # nn_np_padded_flat = nn_np_padded.reshape((1, -1))\n",
    "    # nn_np_padded_float_flat = nn_np_padded_float.reshape((1, -1))\n",
    "    # # nanMask ## True when the element is nan\n",
    "    # nn_np_padded_float_flat_nanMask = np.isnan(nn_np_padded_float_flat)\n",
    "    # nn_np_padded_Mask = ~np.isnan(nn_np_padded_float)\n",
    "\n",
    "    # # replacing all the nan's with -1 index as a placeholder, later we can use mask again to filter them out \n",
    "    # nn_np_padded_flat[nn_np_padded_float_flat_nanMask] = -1  # replacing all the nan's with -1, now we can use this variable to get neighbours classifications\n",
    "    # nn_labels_flat_pHold = labels[list(nn_np_padded_flat[0])]\n",
    "    # nn_labels_flat_pHold = np.array(nn_labels_flat_pHold)\n",
    "    # # nn_labels_flat = nn_labels_flat_pHold *  ~nn_np_padded_float_flat_nanMask\n",
    "    # nn_labels_flat = nn_labels_flat_pHold.copy()\n",
    "    # nn_labels_flat_float = nn_labels_flat.astype(float)\n",
    "    # nn_labels_flat_float[nn_np_padded_float_flat_nanMask[0]] = np.nan\n",
    "\n",
    "    # # 2d array => no more flattened\n",
    "    # nn_labels_float = nn_labels_flat_float.reshape((nn_np_padded.shape[0], -1))\n",
    "\n",
    "\n",
    "    # # 1. compare pts_labels with nn_labels\n",
    "    # match_pts_nn_bool = (pts_labels == nn_labels_float)\n",
    "    # match_pts_nn_num = np.sum(match_pts_nn_bool, axis=1, keepdims=True) # number of points that match\n",
    "\n",
    "    # # 2. nn_count, create nn mask to filter out the points which are not surrounded by many points\n",
    "    # nn_count = np.sum(nn_np_padded_Mask, axis=1, keepdims=True)\n",
    "    # nn_threshold_mask = (nn_count < nn_threshold)\n",
    "\n",
    "    # # 3. calculating the confidences\n",
    "    # confidences = match_pts_nn_num / nn_count \n",
    "    # confidences[nn_threshold_mask] = 0\n",
    "    \n",
    "\n",
    "\n",
    "    # print(\"start, end: \", start, end)\n",
    "    # print(\"pts_vector.shape: \", pts_vector.shape)\n",
    "    # print(\"pts_vector: \", pts_vector)\n",
    "    # print(\"nn.shape: \", nn.shape)\n",
    "    # # print()\n",
    "\n",
    "\n",
    "    # \n",
    "print(f\"point_count: {point_count}\")\n",
    "    "
   ]
  },
  {
   "cell_type": "code",
   "execution_count": null,
   "metadata": {},
   "outputs": [],
   "source": [
    "laz.add_extra_dim(laspy.ExtraBytesParams(\n",
    "    name=\"confidence\",\n",
    "    type=np.float64,\n",
    "    description=\"Confidence of points\"\n",
    "))"
   ]
  }
 ],
 "metadata": {
  "kernelspec": {
   "display_name": "venv",
   "language": "python",
   "name": "python3"
  },
  "language_info": {
   "codemirror_mode": {
    "name": "ipython",
    "version": 3
   },
   "file_extension": ".py",
   "mimetype": "text/x-python",
   "name": "python",
   "nbconvert_exporter": "python",
   "pygments_lexer": "ipython3",
   "version": "3.10.6"
  }
 },
 "nbformat": 4,
 "nbformat_minor": 2
}
