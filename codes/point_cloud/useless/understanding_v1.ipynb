{
 "cells": [
  {
   "cell_type": "code",
   "execution_count": 1,
   "metadata": {},
   "outputs": [
    {
     "name": "stdout",
     "output_type": "stream",
     "text": [
      "[[0, 2], [2, 4], [4, 6], [6, 8], [8, 10]]\n",
      "[[0, 2], [2, 4], [4, 6], [6, 8], [8, 10]]\n"
     ]
    }
   ],
   "source": [
    "import numpy as np\n",
    "from helper_functions import recursive_split, generate_bins"
   ]
  },
  {
   "cell_type": "code",
   "execution_count": 3,
   "metadata": {},
   "outputs": [
    {
     "data": {
      "text/plain": [
       "[(85000.0, 443750.0, 86250.0, 445312.0),\n",
       " (85000.0, 445312.0, 86250.0, 446875.0),\n",
       " (85000.0, 446875.0, 86250.0, 448437.0),\n",
       " (85000.0, 448437.0, 86250.0, 450000.0),\n",
       " (86250.0, 443750.0, 87500.0, 445312.0),\n",
       " (86250.0, 445312.0, 87500.0, 446875.0),\n",
       " (86250.0, 446875.0, 87500.0, 448437.0),\n",
       " (86250.0, 448437.0, 87500.0, 450000.0),\n",
       " (87500.0, 443750.0, 88750.0, 445312.0),\n",
       " (87500.0, 445312.0, 88750.0, 446875.0),\n",
       " (87500.0, 446875.0, 88750.0, 448437.0),\n",
       " (87500.0, 448437.0, 88750.0, 450000.0),\n",
       " (88750.0, 443750.0, 90000.0, 445312.0),\n",
       " (88750.0, 445312.0, 90000.0, 446875.0),\n",
       " (88750.0, 446875.0, 90000.0, 448437.0),\n",
       " (88750.0, 448437.0, 90000.0, 450000.0)]"
      ]
     },
     "execution_count": 3,
     "metadata": {},
     "output_type": "execute_result"
    }
   ],
   "source": [
    "recursive_split(85000.0, 443750.0, 90000.0, 450000.0, 2000, 2000)"
   ]
  },
  {
   "cell_type": "code",
   "execution_count": 2,
   "metadata": {},
   "outputs": [
    {
     "name": "stdout",
     "output_type": "stream",
     "text": [
      "[[0, 2], [2, 4], [4, 6], [6, 8], [8, 10]]\n"
     ]
    }
   ],
   "source": [
    "number = 10\n",
    "bin_count = 5\n",
    "result = generate_bins(number, bin_count)\n",
    "print(result)\n"
   ]
  },
  {
   "cell_type": "code",
   "execution_count": 12,
   "metadata": {},
   "outputs": [
    {
     "name": "stdout",
     "output_type": "stream",
     "text": [
      "[[0, 5302744], [5302744, 10605488], [10605488, 15908231], [15908231, 21210975], [21210975, 26513719], [26513719, 31816463], [31816463, 37119206], [37119206, 42421950], [42421950, 47724694], [47724694, 53027438], [53027438, 58330182], [58330182, 63632925], [63632925, 68935669], [68935669, 74238413]]\n"
     ]
    }
   ],
   "source": [
    "74238423\n",
    "number = 74238413\n",
    "bin_count = 14\n",
    "result = generate_bins(number, bin_count)\n",
    "print(result)\n"
   ]
  },
  {
   "cell_type": "code",
   "execution_count": 7,
   "metadata": {},
   "outputs": [
    {
     "name": "stdout",
     "output_type": "stream",
     "text": [
      "[[1]\n",
      " [2]\n",
      " [8]] \n",
      " [[1 2 3]\n",
      " [4 5 6]\n",
      " [7 8 9]]\n"
     ]
    }
   ],
   "source": [
    "A = np.array([[1], [2], [8]])\n",
    "B = np.array([[1, 2, 3], [4, 5, 6], [7, 8, 9]])\n",
    "print(A, \"\\n\",  B)"
   ]
  },
  {
   "cell_type": "code",
   "execution_count": 8,
   "metadata": {},
   "outputs": [
    {
     "name": "stdout",
     "output_type": "stream",
     "text": [
      "Comparison result:\n",
      "[[ True False False]\n",
      " [False False False]\n",
      " [False  True False]]\n"
     ]
    }
   ],
   "source": [
    "comparison_result = A == B\n",
    "\n",
    "# Print the result\n",
    "print(\"Comparison result:\")\n",
    "print(comparison_result)"
   ]
  },
  {
   "cell_type": "code",
   "execution_count": null,
   "metadata": {},
   "outputs": [],
   "source": [
    "son: shape-X\n",
    "daughter: vectori"
   ]
  }
 ],
 "metadata": {
  "kernelspec": {
   "display_name": "venv",
   "language": "python",
   "name": "python3"
  },
  "language_info": {
   "codemirror_mode": {
    "name": "ipython",
    "version": 3
   },
   "file_extension": ".py",
   "mimetype": "text/x-python",
   "name": "python",
   "nbconvert_exporter": "python",
   "pygments_lexer": "ipython3",
   "version": "3.10.6"
  }
 },
 "nbformat": 4,
 "nbformat_minor": 2
}
