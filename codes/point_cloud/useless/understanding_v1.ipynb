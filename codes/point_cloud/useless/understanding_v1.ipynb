{
 "cells": [
  {
   "cell_type": "code",
   "execution_count": 1,
   "metadata": {},
   "outputs": [
    {
     "name": "stdout",
     "output_type": "stream",
     "text": [
      "[[0, 2], [2, 4], [4, 6], [6, 8], [8, 10]]\n",
      "[[0, 2], [2, 4], [4, 6], [6, 8], [8, 10]]\n"
     ]
    }
   ],
   "source": [
    "import numpy as np\n",
    "from helper_functions import recursive_split, generate_bins"
   ]
  },
  {
   "cell_type": "code",
   "execution_count": 3,
   "metadata": {},
   "outputs": [
    {
     "data": {
      "text/plain": [
       "[(85000.0, 443750.0, 86250.0, 445312.0),\n",
       " (85000.0, 445312.0, 86250.0, 446875.0),\n",
       " (85000.0, 446875.0, 86250.0, 448437.0),\n",
       " (85000.0, 448437.0, 86250.0, 450000.0),\n",
       " (86250.0, 443750.0, 87500.0, 445312.0),\n",
       " (86250.0, 445312.0, 87500.0, 446875.0),\n",
       " (86250.0, 446875.0, 87500.0, 448437.0),\n",
       " (86250.0, 448437.0, 87500.0, 450000.0),\n",
       " (87500.0, 443750.0, 88750.0, 445312.0),\n",
       " (87500.0, 445312.0, 88750.0, 446875.0),\n",
       " (87500.0, 446875.0, 88750.0, 448437.0),\n",
       " (87500.0, 448437.0, 88750.0, 450000.0),\n",
       " (88750.0, 443750.0, 90000.0, 445312.0),\n",
       " (88750.0, 445312.0, 90000.0, 446875.0),\n",
       " (88750.0, 446875.0, 90000.0, 448437.0),\n",
       " (88750.0, 448437.0, 90000.0, 450000.0)]"
      ]
     },
     "execution_count": 3,
     "metadata": {},
     "output_type": "execute_result"
    }
   ],
   "source": [
    "recursive_split(85000.0, 443750.0, 90000.0, 450000.0, 2000, 2000)"
   ]
  },
  {
   "cell_type": "code",
   "execution_count": 2,
   "metadata": {},
   "outputs": [
    {
     "name": "stdout",
     "output_type": "stream",
     "text": [
      "[[0, 2], [2, 4], [4, 6], [6, 8], [8, 10]]\n"
     ]
    }
   ],
   "source": [
    "number = 10\n",
    "bin_count = 5\n",
    "result = generate_bins(number, bin_count)\n",
    "print(result)\n"
   ]
  },
  {
   "cell_type": "code",
   "execution_count": 12,
   "metadata": {},
   "outputs": [
    {
     "name": "stdout",
     "output_type": "stream",
     "text": [
      "[[0, 5302744], [5302744, 10605488], [10605488, 15908231], [15908231, 21210975], [21210975, 26513719], [26513719, 31816463], [31816463, 37119206], [37119206, 42421950], [42421950, 47724694], [47724694, 53027438], [53027438, 58330182], [58330182, 63632925], [63632925, 68935669], [68935669, 74238413]]\n"
     ]
    }
   ],
   "source": [
    "74238423\n",
    "number = 74238413\n",
    "bin_count = 14\n",
    "result = generate_bins(number, bin_count)\n",
    "print(result)\n"
   ]
  },
  {
   "cell_type": "code",
   "execution_count": 7,
   "metadata": {},
   "outputs": [
    {
     "name": "stdout",
     "output_type": "stream",
     "text": [
      "[[1]\n",
      " [2]\n",
      " [8]] \n",
      " [[1 2 3]\n",
      " [4 5 6]\n",
      " [7 8 9]]\n"
     ]
    }
   ],
   "source": [
    "A = np.array([[1], [2], [8]])\n",
    "B = np.array([[1, 2, 3], [4, 5, 6], [7, 8, 9]])\n",
    "print(A, \"\\n\",  B)"
   ]
  },
  {
   "cell_type": "code",
   "execution_count": 8,
   "metadata": {},
   "outputs": [
    {
     "name": "stdout",
     "output_type": "stream",
     "text": [
      "Comparison result:\n",
      "[[ True False False]\n",
      " [False False False]\n",
      " [False  True False]]\n"
     ]
    }
   ],
   "source": [
    "comparison_result = A == B\n",
    "\n",
    "# Print the result\n",
    "print(\"Comparison result:\")\n",
    "print(comparison_result)"
   ]
  },
  {
   "cell_type": "code",
   "execution_count": null,
   "metadata": {},
   "outputs": [],
   "source": [
    "son: shape-X\n",
    "daughter: vectori"
   ]
  },
  {
   "cell_type": "code",
   "execution_count": 3,
   "metadata": {},
   "outputs": [],
   "source": [
    "import laspy\n",
    "import numpy as np\n",
    "from scipy.spatial import KDTree\n",
    "from user_inputs import laz_file_path, clip_folder_path\n",
    "from user_inputs import search_radius, nn_threshold, bin_count_nn\n",
    "from helper_functions_useless import generate_bins, fraction_of_trues\n",
    "import time\n",
    "from tqdm import tqdm"
   ]
  },
  {
   "cell_type": "code",
   "execution_count": 4,
   "metadata": {},
   "outputs": [
    {
     "data": {
      "text/plain": [
       "'D:\\\\Geomatics\\\\thesis\\\\RefineNet\\\\data\\\\AHN\\\\clipped\\\\C_37EN2_clipped_8th_part.LAZ'"
      ]
     },
     "execution_count": 4,
     "metadata": {},
     "output_type": "execute_result"
    }
   ],
   "source": [
    "laz_file_name = laz_file_path.split(\"\\\\\")[-1].split(\".\")\n",
    "clip_laz_file_name = laz_file_name[0] + \"_clipped_8th_part.\" + laz_file_name[1]\n",
    "clip_laz_path = clip_folder_path + \"\\\\\" + clip_laz_file_name\n",
    "clip_laz_path"
   ]
  },
  {
   "cell_type": "code",
   "execution_count": 5,
   "metadata": {},
   "outputs": [],
   "source": [
    "laz = laspy.read(clip_laz_path)"
   ]
  },
  {
   "cell_type": "code",
   "execution_count": 6,
   "metadata": {},
   "outputs": [
    {
     "name": "stdout",
     "output_type": "stream",
     "text": [
      "number of points: 18742173\n"
     ]
    }
   ],
   "source": [
    "print(f\"number of points: {laz.header.point_count}\")"
   ]
  },
  {
   "cell_type": "code",
   "execution_count": 7,
   "metadata": {},
   "outputs": [
    {
     "name": "stdout",
     "output_type": "stream",
     "text": [
      "X\n",
      "Y\n",
      "Z\n",
      "intensity\n",
      "return_number\n",
      "number_of_returns\n",
      "scan_direction_flag\n",
      "edge_of_flight_line\n",
      "classification\n",
      "synthetic\n",
      "key_point\n",
      "withheld\n",
      "scan_angle_rank\n",
      "user_data\n",
      "point_source_id\n",
      "gps_time\n",
      "Amplitude\n",
      "Reflectance\n",
      "Deviation\n",
      "\n",
      "unique classifications in clipped region:  [ 1  2  6  9 26]\n"
     ]
    }
   ],
   "source": [
    "# printing out all the available dimensions in clipped laz file\n",
    "for dimension in laz.point_format.dimensions:\n",
    "    print(dimension.name)\n",
    "print(\"\\nunique classifications in clipped region: \", np.unique(laz.classification))"
   ]
  },
  {
   "cell_type": "code",
   "execution_count": null,
   "metadata": {},
   "outputs": [],
   "source": []
  }
 ],
 "metadata": {
  "kernelspec": {
   "display_name": "venv",
   "language": "python",
   "name": "python3"
  },
  "language_info": {
   "codemirror_mode": {
    "name": "ipython",
    "version": 3
   },
   "file_extension": ".py",
   "mimetype": "text/x-python",
   "name": "python",
   "nbconvert_exporter": "python",
   "pygments_lexer": "ipython3",
   "version": "3.10.6"
  }
 },
 "nbformat": 4,
 "nbformat_minor": 2
}
