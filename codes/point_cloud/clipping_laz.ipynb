{
 "cells": [
  {
   "cell_type": "code",
   "execution_count": 1,
   "metadata": {},
   "outputs": [],
   "source": [
    "import laspy\n",
    "import numpy as np\n",
    "from tqdm import tqdm\n",
    "from user_inputs import top, left, bottom, right, clipping, laz_file_path, clip_folder_path"
   ]
  },
  {
   "cell_type": "code",
   "execution_count": 2,
   "metadata": {},
   "outputs": [
    {
     "name": "stdout",
     "output_type": "stream",
     "text": [
      "['C_37EN2', 'LAZ']\n",
      "C_37EN2_clipped_8th_part.LAZ\n"
     ]
    }
   ],
   "source": [
    "laz_file_name = laz_file_path.split(\"\\\\\")[-1].split(\".\")\n",
    "clip_outlaz_file_name = laz_file_name[0] + \"_clipped_8th_part.\" + laz_file_name[1]\n",
    "print(laz_file_name)\n",
    "print(clip_outlaz_file_name)\n"
   ]
  },
  {
   "cell_type": "markdown",
   "metadata": {},
   "source": [
    "**Checking if file reading working properly or not**"
   ]
  },
  {
   "cell_type": "code",
   "execution_count": 3,
   "metadata": {},
   "outputs": [
    {
     "name": "stdout",
     "output_type": "stream",
     "text": [
      "1130794597\n",
      "x_min, x_max:  85000.0 89999.999\n",
      "y_min, y_max:  443750.0 449999.999\n",
      "z_min, z_max:  -8.322000000000001 108.464\n",
      "top, left:  449999.999 85000.0\n",
      "bottom, right:  449218.74912500003 85624.999875\n"
     ]
    }
   ],
   "source": [
    "with laspy.open(laz_file_path) as f:\n",
    "    input_point_count = f.header.point_count\n",
    "    print(input_point_count)\n",
    "    print(\"x_min, x_max: \", f.header.x_min, f.header.x_max)\n",
    "    print(\"y_min, y_max: \", f.header.y_min, f.header.y_max)\n",
    "    print(\"z_min, z_max: \", f.header.z_min, f.header.z_max)\n",
    "print(\"top, left: \", top, left)\n",
    "print(\"bottom, right: \", bottom, right)\n"
   ]
  },
  {
   "cell_type": "code",
   "execution_count": 4,
   "metadata": {},
   "outputs": [
    {
     "name": "stderr",
     "output_type": "stream",
     "text": [
      "Processing Chunks: 0it [00:00, ?it/s]"
     ]
    },
    {
     "name": "stderr",
     "output_type": "stream",
     "text": [
      "Processing Chunks: 1it [00:07,  7.32s/it]"
     ]
    },
    {
     "name": "stdout",
     "output_type": "stream",
     "text": [
      "\tsub_points:  <PackedPointRecord(fmt: <PointFormat(1, 6 bytes of extra dims)>, len: 0, point size: 34)>\n"
     ]
    },
    {
     "name": "stderr",
     "output_type": "stream",
     "text": [
      "Processing Chunks: 2it [00:24, 13.13s/it]"
     ]
    },
    {
     "name": "stdout",
     "output_type": "stream",
     "text": [
      "\tsub_points:  <PackedPointRecord(fmt: <PointFormat(1, 6 bytes of extra dims)>, len: 0, point size: 34)>\n"
     ]
    },
    {
     "name": "stderr",
     "output_type": "stream",
     "text": [
      "Processing Chunks: 3it [00:34, 11.62s/it]"
     ]
    },
    {
     "name": "stdout",
     "output_type": "stream",
     "text": [
      "\tsub_points:  <PackedPointRecord(fmt: <PointFormat(1, 6 bytes of extra dims)>, len: 0, point size: 34)>\n",
      "\tsub_points:  <PackedPointRecord(fmt: <PointFormat(1, 6 bytes of extra dims)>, len: 15728986, point size: 34)>\n"
     ]
    },
    {
     "name": "stderr",
     "output_type": "stream",
     "text": [
      "Processing Chunks: 4it [00:46, 11.70s/it]"
     ]
    },
    {
     "name": "stdout",
     "output_type": "stream",
     "text": [
      "\tsub_points:  <PackedPointRecord(fmt: <PointFormat(1, 6 bytes of extra dims)>, len: 3013187, point size: 34)>\n"
     ]
    },
    {
     "name": "stderr",
     "output_type": "stream",
     "text": [
      "Processing Chunks: 6it [01:02,  9.62s/it]"
     ]
    },
    {
     "name": "stdout",
     "output_type": "stream",
     "text": [
      "\tsub_points:  <PackedPointRecord(fmt: <PointFormat(1, 6 bytes of extra dims)>, len: 0, point size: 34)>\n"
     ]
    },
    {
     "name": "stderr",
     "output_type": "stream",
     "text": [
      "Processing Chunks: 7it [01:10,  9.18s/it]"
     ]
    },
    {
     "name": "stdout",
     "output_type": "stream",
     "text": [
      "\tsub_points:  <PackedPointRecord(fmt: <PointFormat(1, 6 bytes of extra dims)>, len: 0, point size: 34)>\n"
     ]
    },
    {
     "name": "stderr",
     "output_type": "stream",
     "text": [
      "Processing Chunks: 8it [01:18,  8.81s/it]"
     ]
    },
    {
     "name": "stdout",
     "output_type": "stream",
     "text": [
      "\tsub_points:  <PackedPointRecord(fmt: <PointFormat(1, 6 bytes of extra dims)>, len: 0, point size: 34)>\n"
     ]
    },
    {
     "name": "stderr",
     "output_type": "stream",
     "text": [
      "Processing Chunks: 9it [01:26,  8.56s/it]"
     ]
    },
    {
     "name": "stdout",
     "output_type": "stream",
     "text": [
      "\tsub_points:  <PackedPointRecord(fmt: <PointFormat(1, 6 bytes of extra dims)>, len: 0, point size: 34)>\n"
     ]
    },
    {
     "name": "stderr",
     "output_type": "stream",
     "text": [
      "Processing Chunks: 10it [01:34,  8.21s/it]"
     ]
    },
    {
     "name": "stdout",
     "output_type": "stream",
     "text": [
      "\tsub_points:  <PackedPointRecord(fmt: <PointFormat(1, 6 bytes of extra dims)>, len: 0, point size: 34)>\n"
     ]
    },
    {
     "name": "stderr",
     "output_type": "stream",
     "text": [
      "Processing Chunks: 11it [01:42,  8.15s/it]"
     ]
    },
    {
     "name": "stdout",
     "output_type": "stream",
     "text": [
      "\tsub_points:  <PackedPointRecord(fmt: <PointFormat(1, 6 bytes of extra dims)>, len: 0, point size: 34)>\n"
     ]
    },
    {
     "name": "stderr",
     "output_type": "stream",
     "text": [
      "Processing Chunks: 12it [01:50,  8.07s/it]"
     ]
    },
    {
     "name": "stdout",
     "output_type": "stream",
     "text": [
      "\tsub_points:  <PackedPointRecord(fmt: <PointFormat(1, 6 bytes of extra dims)>, len: 0, point size: 34)>\n"
     ]
    },
    {
     "name": "stderr",
     "output_type": "stream",
     "text": [
      "Processing Chunks: 13it [01:58,  8.06s/it]"
     ]
    },
    {
     "name": "stdout",
     "output_type": "stream",
     "text": [
      "\tsub_points:  <PackedPointRecord(fmt: <PointFormat(1, 6 bytes of extra dims)>, len: 0, point size: 34)>\n"
     ]
    },
    {
     "name": "stderr",
     "output_type": "stream",
     "text": [
      "Processing Chunks: 14it [02:05,  7.84s/it]"
     ]
    },
    {
     "name": "stdout",
     "output_type": "stream",
     "text": [
      "\tsub_points:  <PackedPointRecord(fmt: <PointFormat(1, 6 bytes of extra dims)>, len: 0, point size: 34)>\n"
     ]
    },
    {
     "name": "stderr",
     "output_type": "stream",
     "text": [
      "Processing Chunks: 15it [02:13,  7.82s/it]"
     ]
    },
    {
     "name": "stdout",
     "output_type": "stream",
     "text": [
      "\tsub_points:  <PackedPointRecord(fmt: <PointFormat(1, 6 bytes of extra dims)>, len: 0, point size: 34)>\n"
     ]
    },
    {
     "name": "stderr",
     "output_type": "stream",
     "text": [
      "Processing Chunks: 16it [02:21,  7.89s/it]"
     ]
    },
    {
     "name": "stdout",
     "output_type": "stream",
     "text": [
      "\tsub_points:  <PackedPointRecord(fmt: <PointFormat(1, 6 bytes of extra dims)>, len: 0, point size: 34)>\n"
     ]
    },
    {
     "name": "stderr",
     "output_type": "stream",
     "text": [
      "Processing Chunks: 17it [02:29,  7.86s/it]"
     ]
    },
    {
     "name": "stdout",
     "output_type": "stream",
     "text": [
      "\tsub_points:  <PackedPointRecord(fmt: <PointFormat(1, 6 bytes of extra dims)>, len: 0, point size: 34)>\n"
     ]
    },
    {
     "name": "stderr",
     "output_type": "stream",
     "text": [
      "Processing Chunks: 18it [02:36,  7.66s/it]"
     ]
    },
    {
     "name": "stdout",
     "output_type": "stream",
     "text": [
      "\tsub_points:  <PackedPointRecord(fmt: <PointFormat(1, 6 bytes of extra dims)>, len: 0, point size: 34)>\n"
     ]
    },
    {
     "name": "stderr",
     "output_type": "stream",
     "text": [
      "Processing Chunks: 19it [02:43,  7.51s/it]"
     ]
    },
    {
     "name": "stdout",
     "output_type": "stream",
     "text": [
      "\tsub_points:  <PackedPointRecord(fmt: <PointFormat(1, 6 bytes of extra dims)>, len: 0, point size: 34)>\n"
     ]
    },
    {
     "name": "stderr",
     "output_type": "stream",
     "text": [
      "Processing Chunks: 21it [02:50,  5.27s/it]"
     ]
    },
    {
     "name": "stdout",
     "output_type": "stream",
     "text": [
      "\tsub_points:  <PackedPointRecord(fmt: <PointFormat(1, 6 bytes of extra dims)>, len: 0, point size: 34)>\n",
      "\tsub_points:  <PackedPointRecord(fmt: <PointFormat(1, 6 bytes of extra dims)>, len: 0, point size: 34)>\n"
     ]
    },
    {
     "name": "stderr",
     "output_type": "stream",
     "text": [
      "Processing Chunks: 21it [02:50,  8.14s/it]\n"
     ]
    }
   ],
   "source": [
    "points_per_iter = int(input_point_count / 20)  ## restricting chunk iteration to 21 iterations\n",
    "if clipping:\n",
    "\n",
    "    with laspy.open(laz_file_path) as f:\n",
    "        outfile_laz = laspy.open(clip_folder_path + \"\\\\\" + clip_outlaz_file_name, mode=\"w\", \n",
    "                                 header=f.header)\n",
    "        total_point_count = f.header.point_count\n",
    "        count = 0\n",
    "        for points in tqdm(f.chunk_iterator(points_per_iter), desc='Processing Chunks'):\n",
    "            # For performance, we need to use copy\n",
    "            # so that the underlying arrays are contiguous  ## from laspy doc\n",
    "            \n",
    "            x, y = points.x.copy(), points.y.copy()\n",
    "            mask = (x >= left) & (x <= right) & (y >= bottom) & (y <= top)\n",
    "            # print(f'Chunk Max X: {points.x.max()}, Min X: {points.x.min()}, Max Y: {points.y.max()}, Min Y: {points.y.min()}')  ## useless\n",
    "            sub_points = points[mask].copy()\n",
    "            print(\"\\tsub_points: \", sub_points)\n",
    "            outfile_laz.write_points(sub_points)\n",
    "            count += len(points)\n",
    "        \n",
    "        outfile_laz.close()\n"
   ]
  },
  {
   "cell_type": "markdown",
   "metadata": {},
   "source": [
    "reading the clipped points again to verify the point count"
   ]
  },
  {
   "cell_type": "code",
   "execution_count": 5,
   "metadata": {},
   "outputs": [
    {
     "name": "stdout",
     "output_type": "stream",
     "text": [
      "18742173\n"
     ]
    }
   ],
   "source": [
    "with laspy.open(clip_folder_path + \"\\\\\" + clip_outlaz_file_name) as f2:\n",
    "    print(f2.header.point_count)"
   ]
  },
  {
   "cell_type": "code",
   "execution_count": 6,
   "metadata": {},
   "outputs": [
    {
     "name": "stderr",
     "output_type": "stream",
     "text": [
      "Processing Chunks: 1it [00:06,  6.46s/it]"
     ]
    },
    {
     "name": "stdout",
     "output_type": "stream",
     "text": [
      "[ 1  2  6  9 14 26]\n"
     ]
    },
    {
     "name": "stderr",
     "output_type": "stream",
     "text": [
      "Processing Chunks: 2it [00:12,  6.42s/it]"
     ]
    },
    {
     "name": "stdout",
     "output_type": "stream",
     "text": [
      "[ 1  2  6  9 14 26]\n"
     ]
    },
    {
     "name": "stderr",
     "output_type": "stream",
     "text": [
      "Processing Chunks: 3it [00:20,  6.92s/it]"
     ]
    },
    {
     "name": "stdout",
     "output_type": "stream",
     "text": [
      "[ 1  2  6  9 26]\n"
     ]
    },
    {
     "name": "stderr",
     "output_type": "stream",
     "text": [
      "Processing Chunks: 4it [00:28,  7.23s/it]"
     ]
    },
    {
     "name": "stdout",
     "output_type": "stream",
     "text": [
      "[ 1  2  6  9 26]\n"
     ]
    },
    {
     "name": "stderr",
     "output_type": "stream",
     "text": [
      "Processing Chunks: 5it [00:35,  7.33s/it]"
     ]
    },
    {
     "name": "stdout",
     "output_type": "stream",
     "text": [
      "[ 1  2  6  9 26]\n"
     ]
    },
    {
     "name": "stderr",
     "output_type": "stream",
     "text": [
      "Processing Chunks: 6it [00:43,  7.38s/it]"
     ]
    },
    {
     "name": "stdout",
     "output_type": "stream",
     "text": [
      "[ 1  2  6  9 26]\n"
     ]
    },
    {
     "name": "stderr",
     "output_type": "stream",
     "text": [
      "Processing Chunks: 7it [00:52,  8.07s/it]"
     ]
    },
    {
     "name": "stdout",
     "output_type": "stream",
     "text": [
      "[ 1  2  6  9 14 26]\n"
     ]
    },
    {
     "name": "stderr",
     "output_type": "stream",
     "text": [
      "Processing Chunks: 8it [00:59,  7.67s/it]"
     ]
    },
    {
     "name": "stdout",
     "output_type": "stream",
     "text": [
      "[ 1  2  6  9 26]\n"
     ]
    },
    {
     "name": "stderr",
     "output_type": "stream",
     "text": [
      "Processing Chunks: 9it [01:07,  7.72s/it]"
     ]
    },
    {
     "name": "stdout",
     "output_type": "stream",
     "text": [
      "[ 1  2  6  9 26]\n"
     ]
    },
    {
     "name": "stderr",
     "output_type": "stream",
     "text": [
      "Processing Chunks: 10it [01:14,  7.67s/it]"
     ]
    },
    {
     "name": "stdout",
     "output_type": "stream",
     "text": [
      "[ 1  2  6  9 26]\n"
     ]
    },
    {
     "name": "stderr",
     "output_type": "stream",
     "text": [
      "Processing Chunks: 11it [01:22,  7.71s/it]"
     ]
    },
    {
     "name": "stdout",
     "output_type": "stream",
     "text": [
      "[ 1  2  6  9 26]\n"
     ]
    },
    {
     "name": "stderr",
     "output_type": "stream",
     "text": [
      "Processing Chunks: 12it [01:29,  7.39s/it]"
     ]
    },
    {
     "name": "stdout",
     "output_type": "stream",
     "text": [
      "[ 1  2  6  9 26]\n"
     ]
    },
    {
     "name": "stderr",
     "output_type": "stream",
     "text": [
      "Processing Chunks: 13it [01:36,  7.29s/it]"
     ]
    },
    {
     "name": "stdout",
     "output_type": "stream",
     "text": [
      "[ 1  2  6  9 26]\n"
     ]
    },
    {
     "name": "stderr",
     "output_type": "stream",
     "text": [
      "Processing Chunks: 14it [01:42,  7.02s/it]"
     ]
    },
    {
     "name": "stdout",
     "output_type": "stream",
     "text": [
      "[ 1  2  6  9 26]\n"
     ]
    },
    {
     "name": "stderr",
     "output_type": "stream",
     "text": [
      "Processing Chunks: 15it [01:50,  7.40s/it]"
     ]
    },
    {
     "name": "stdout",
     "output_type": "stream",
     "text": [
      "[ 1  2  6  9 26]\n"
     ]
    },
    {
     "name": "stderr",
     "output_type": "stream",
     "text": [
      "Processing Chunks: 16it [01:59,  7.66s/it]"
     ]
    },
    {
     "name": "stdout",
     "output_type": "stream",
     "text": [
      "[ 1  2  6  9 26]\n"
     ]
    },
    {
     "name": "stderr",
     "output_type": "stream",
     "text": [
      "Processing Chunks: 17it [02:06,  7.65s/it]"
     ]
    },
    {
     "name": "stdout",
     "output_type": "stream",
     "text": [
      "[ 1  2  6  9 26]\n"
     ]
    },
    {
     "name": "stderr",
     "output_type": "stream",
     "text": [
      "Processing Chunks: 18it [02:13,  7.25s/it]"
     ]
    },
    {
     "name": "stdout",
     "output_type": "stream",
     "text": [
      "[ 1  2  6  9 26]\n"
     ]
    },
    {
     "name": "stderr",
     "output_type": "stream",
     "text": [
      "Processing Chunks: 19it [02:20,  7.14s/it]"
     ]
    },
    {
     "name": "stdout",
     "output_type": "stream",
     "text": [
      "[ 1  2  6  9 26]\n"
     ]
    },
    {
     "name": "stderr",
     "output_type": "stream",
     "text": [
      "Processing Chunks: 21it [02:27,  7.01s/it]"
     ]
    },
    {
     "name": "stdout",
     "output_type": "stream",
     "text": [
      "[ 1  2  6  9 26]\n",
      "[1 2]\n"
     ]
    },
    {
     "name": "stderr",
     "output_type": "stream",
     "text": [
      "\n"
     ]
    }
   ],
   "source": [
    "points_per_iter = int(input_point_count / 20)  ## restricting chunk iteration to 21 iterations\n",
    "if clipping:\n",
    "\n",
    "    with laspy.open(laz_file_path) as f:\n",
    "        # outfile_laz = laspy.open(clip_folder_path + \"\\\\\" + clip_outlaz_file_name, mode=\"w\", \n",
    "        #                          header=f.header)\n",
    "        # total_point_count = f.header.point_count\n",
    "        count = 0\n",
    "        for points in tqdm(f.chunk_iterator(points_per_iter), desc='Processing Chunks'):\n",
    "            # For performance, we need to use copy\n",
    "            # so that the underlying arrays are contiguous  ## from laspy doc\n",
    "            \n",
    "            # x, y = points.x.copy(), points.y.copy()\n",
    "            # mask = (x >= left) & (x <= right) & (y >= bottom) & (y <= top)\n",
    "            # print(f'Chunk Max X: {points.x.max()}, Min X: {points.x.min()}, Max Y: {points.y.max()}, Min Y: {points.y.min()}')  ## useless\n",
    "            # sub_points = points[mask].copy()\n",
    "            # print(\"\\tsub_points: \", sub_points)\n",
    "            # outfile_laz.write_points(sub_points)\n",
    "            # count += len(points)\n",
    "            print(np.unique(points.classification))\n",
    "        \n",
    "        # outfile_laz.close()\n"
   ]
  },
  {
   "cell_type": "code",
   "execution_count": null,
   "metadata": {},
   "outputs": [],
   "source": []
  }
 ],
 "metadata": {
  "kernelspec": {
   "display_name": "venv",
   "language": "python",
   "name": "python3"
  },
  "language_info": {
   "codemirror_mode": {
    "name": "ipython",
    "version": 3
   },
   "file_extension": ".py",
   "mimetype": "text/x-python",
   "name": "python",
   "nbconvert_exporter": "python",
   "pygments_lexer": "ipython3",
   "version": "3.10.6"
  }
 },
 "nbformat": 4,
 "nbformat_minor": 2
}
