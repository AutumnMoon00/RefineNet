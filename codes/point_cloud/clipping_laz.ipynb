{
 "cells": [
  {
   "cell_type": "code",
   "execution_count": 2,
   "metadata": {},
   "outputs": [],
   "source": [
    "import laspy\n",
    "import numpy as np\n",
    "from tqdm import tqdm\n",
    "from user_inputs import top, left, bottom, right, clipping, laz_file_path, clip_folder_path"
   ]
  },
  {
   "cell_type": "code",
   "execution_count": 3,
   "metadata": {},
   "outputs": [
    {
     "name": "stdout",
     "output_type": "stream",
     "text": [
      "['C_37EN2', 'LAZ']\n",
      "C_37EN2_clipped.LAZ\n"
     ]
    }
   ],
   "source": [
    "laz_file_name = laz_file_path.split(\"\\\\\")[-1].split(\".\")\n",
    "clip_outlaz_file_name = laz_file_name[0] + \"_clipped.\" + laz_file_name[1]\n",
    "print(laz_file_name)\n",
    "print(clip_outlaz_file_name)\n"
   ]
  },
  {
   "cell_type": "markdown",
   "metadata": {},
   "source": [
    "**Checking if file reading working properly or not**"
   ]
  },
  {
   "cell_type": "code",
   "execution_count": 4,
   "metadata": {},
   "outputs": [
    {
     "name": "stdout",
     "output_type": "stream",
     "text": [
      "1130794597\n",
      "x_min, x_max:  85000.0 89999.999\n",
      "y_min, y_max:  443750.0 449999.999\n",
      "z_min, z_max:  -8.322000000000001 108.464\n",
      "top, left:  449999.999 85000.0\n",
      "bottom, right:  448437.49925 86249.99975\n"
     ]
    }
   ],
   "source": [
    "with laspy.open(laz_file_path) as f:\n",
    "    input_point_count = f.header.point_count\n",
    "    print(input_point_count)\n",
    "    print(\"x_min, x_max: \", f.header.x_min, f.header.x_max)\n",
    "    print(\"y_min, y_max: \", f.header.y_min, f.header.y_max)\n",
    "    print(\"z_min, z_max: \", f.header.z_min, f.header.z_max)\n",
    "print(\"top, left: \", top, left)\n",
    "print(\"bottom, right: \", bottom, right)\n"
   ]
  },
  {
   "cell_type": "markdown",
   "metadata": {},
   "source": [
    "**Notes:** \n",
    "1. add extra_dim that is confidence"
   ]
  },
  {
   "cell_type": "code",
   "execution_count": 5,
   "metadata": {},
   "outputs": [
    {
     "name": "stderr",
     "output_type": "stream",
     "text": [
      "Processing Chunks: 1it [00:06,  6.12s/it]"
     ]
    },
    {
     "name": "stdout",
     "output_type": "stream",
     "text": [
      "\tsub_points:  <PackedPointRecord(fmt: <PointFormat(1, 6 bytes of extra dims)>, len: 0, point size: 34)>\n"
     ]
    },
    {
     "name": "stderr",
     "output_type": "stream",
     "text": [
      "Processing Chunks: 2it [00:13,  6.77s/it]"
     ]
    },
    {
     "name": "stdout",
     "output_type": "stream",
     "text": [
      "\tsub_points:  <PackedPointRecord(fmt: <PointFormat(1, 6 bytes of extra dims)>, len: 0, point size: 34)>\n"
     ]
    },
    {
     "name": "stderr",
     "output_type": "stream",
     "text": [
      "Processing Chunks: 3it [00:21,  7.30s/it]"
     ]
    },
    {
     "name": "stdout",
     "output_type": "stream",
     "text": [
      "\tsub_points:  <PackedPointRecord(fmt: <PointFormat(1, 6 bytes of extra dims)>, len: 1295424, point size: 34)>\n",
      "\tsub_points:  <PackedPointRecord(fmt: <PointFormat(1, 6 bytes of extra dims)>, len: 46038322, point size: 34)>\n"
     ]
    },
    {
     "name": "stderr",
     "output_type": "stream",
     "text": [
      "Processing Chunks: 4it [00:37, 10.79s/it]"
     ]
    },
    {
     "name": "stdout",
     "output_type": "stream",
     "text": [
      "\tsub_points:  <PackedPointRecord(fmt: <PointFormat(1, 6 bytes of extra dims)>, len: 13020775, point size: 34)>\n"
     ]
    },
    {
     "name": "stderr",
     "output_type": "stream",
     "text": [
      "Processing Chunks: 6it [00:54,  9.39s/it]"
     ]
    },
    {
     "name": "stdout",
     "output_type": "stream",
     "text": [
      "\tsub_points:  <PackedPointRecord(fmt: <PointFormat(1, 6 bytes of extra dims)>, len: 0, point size: 34)>\n"
     ]
    },
    {
     "name": "stderr",
     "output_type": "stream",
     "text": [
      "Processing Chunks: 7it [01:02,  8.70s/it]"
     ]
    },
    {
     "name": "stdout",
     "output_type": "stream",
     "text": [
      "\tsub_points:  <PackedPointRecord(fmt: <PointFormat(1, 6 bytes of extra dims)>, len: 0, point size: 34)>\n",
      "\tsub_points:  <PackedPointRecord(fmt: <PointFormat(1, 6 bytes of extra dims)>, len: 13092784, point size: 34)>\n"
     ]
    },
    {
     "name": "stderr",
     "output_type": "stream",
     "text": [
      "Processing Chunks: 9it [01:18,  8.39s/it]"
     ]
    },
    {
     "name": "stdout",
     "output_type": "stream",
     "text": [
      "\tsub_points:  <PackedPointRecord(fmt: <PointFormat(1, 6 bytes of extra dims)>, len: 791118, point size: 34)>\n"
     ]
    },
    {
     "name": "stderr",
     "output_type": "stream",
     "text": [
      "Processing Chunks: 10it [01:25,  7.81s/it]"
     ]
    },
    {
     "name": "stdout",
     "output_type": "stream",
     "text": [
      "\tsub_points:  <PackedPointRecord(fmt: <PointFormat(1, 6 bytes of extra dims)>, len: 0, point size: 34)>\n"
     ]
    },
    {
     "name": "stderr",
     "output_type": "stream",
     "text": [
      "Processing Chunks: 11it [01:31,  7.50s/it]"
     ]
    },
    {
     "name": "stdout",
     "output_type": "stream",
     "text": [
      "\tsub_points:  <PackedPointRecord(fmt: <PointFormat(1, 6 bytes of extra dims)>, len: 0, point size: 34)>\n"
     ]
    },
    {
     "name": "stderr",
     "output_type": "stream",
     "text": [
      "Processing Chunks: 12it [01:38,  7.28s/it]"
     ]
    },
    {
     "name": "stdout",
     "output_type": "stream",
     "text": [
      "\tsub_points:  <PackedPointRecord(fmt: <PointFormat(1, 6 bytes of extra dims)>, len: 0, point size: 34)>\n"
     ]
    },
    {
     "name": "stderr",
     "output_type": "stream",
     "text": [
      "Processing Chunks: 13it [01:45,  7.25s/it]"
     ]
    },
    {
     "name": "stdout",
     "output_type": "stream",
     "text": [
      "\tsub_points:  <PackedPointRecord(fmt: <PointFormat(1, 6 bytes of extra dims)>, len: 0, point size: 34)>\n"
     ]
    },
    {
     "name": "stderr",
     "output_type": "stream",
     "text": [
      "Processing Chunks: 14it [01:52,  7.08s/it]"
     ]
    },
    {
     "name": "stdout",
     "output_type": "stream",
     "text": [
      "\tsub_points:  <PackedPointRecord(fmt: <PointFormat(1, 6 bytes of extra dims)>, len: 0, point size: 34)>\n"
     ]
    },
    {
     "name": "stderr",
     "output_type": "stream",
     "text": [
      "Processing Chunks: 15it [01:59,  7.13s/it]"
     ]
    },
    {
     "name": "stdout",
     "output_type": "stream",
     "text": [
      "\tsub_points:  <PackedPointRecord(fmt: <PointFormat(1, 6 bytes of extra dims)>, len: 0, point size: 34)>\n"
     ]
    },
    {
     "name": "stderr",
     "output_type": "stream",
     "text": [
      "Processing Chunks: 16it [02:07,  7.26s/it]"
     ]
    },
    {
     "name": "stdout",
     "output_type": "stream",
     "text": [
      "\tsub_points:  <PackedPointRecord(fmt: <PointFormat(1, 6 bytes of extra dims)>, len: 0, point size: 34)>\n"
     ]
    },
    {
     "name": "stderr",
     "output_type": "stream",
     "text": [
      "Processing Chunks: 17it [02:14,  7.05s/it]"
     ]
    },
    {
     "name": "stdout",
     "output_type": "stream",
     "text": [
      "\tsub_points:  <PackedPointRecord(fmt: <PointFormat(1, 6 bytes of extra dims)>, len: 0, point size: 34)>\n"
     ]
    },
    {
     "name": "stderr",
     "output_type": "stream",
     "text": [
      "Processing Chunks: 18it [02:20,  6.93s/it]"
     ]
    },
    {
     "name": "stdout",
     "output_type": "stream",
     "text": [
      "\tsub_points:  <PackedPointRecord(fmt: <PointFormat(1, 6 bytes of extra dims)>, len: 0, point size: 34)>\n"
     ]
    },
    {
     "name": "stderr",
     "output_type": "stream",
     "text": [
      "Processing Chunks: 19it [02:27,  7.04s/it]"
     ]
    },
    {
     "name": "stdout",
     "output_type": "stream",
     "text": [
      "\tsub_points:  <PackedPointRecord(fmt: <PointFormat(1, 6 bytes of extra dims)>, len: 0, point size: 34)>\n"
     ]
    },
    {
     "name": "stderr",
     "output_type": "stream",
     "text": [
      "Processing Chunks: 21it [02:35,  7.39s/it]"
     ]
    },
    {
     "name": "stdout",
     "output_type": "stream",
     "text": [
      "\tsub_points:  <PackedPointRecord(fmt: <PointFormat(1, 6 bytes of extra dims)>, len: 0, point size: 34)>\n",
      "\tsub_points:  <PackedPointRecord(fmt: <PointFormat(1, 6 bytes of extra dims)>, len: 0, point size: 34)>\n"
     ]
    },
    {
     "name": "stderr",
     "output_type": "stream",
     "text": [
      "\n"
     ]
    }
   ],
   "source": [
    "points_per_iter = int(input_point_count / 20)  ## restricting chunk iteration to 21 iterations\n",
    "if clipping:\n",
    "\n",
    "    with laspy.open(laz_file_path) as f:\n",
    "        outfile_laz = laspy.open(clip_folder_path + \"\\\\\" + clip_outlaz_file_name, mode=\"w\", \n",
    "                                 header=f.header)\n",
    "        total_point_count = f.header.point_count\n",
    "        count = 0\n",
    "        for points in tqdm(f.chunk_iterator(points_per_iter), desc='Processing Chunks'):\n",
    "            # For performance, we need to use copy\n",
    "            # so that the underlying arrays are contiguous  ## from laspy doc\n",
    "            \n",
    "            x, y = points.x.copy(), points.y.copy()\n",
    "            mask = (x >= left) & (x <= right) & (y >= bottom) & (y <= top)\n",
    "            # print(f'Chunk Max X: {points.x.max()}, Min X: {points.x.min()}, Max Y: {points.y.max()}, Min Y: {points.y.min()}')  ## useless\n",
    "            sub_points = points[mask].copy()\n",
    "            print(\"\\tsub_points: \", sub_points)\n",
    "            outfile_laz.write_points(sub_points)\n",
    "            count += len(points)\n",
    "        \n",
    "        outfile_laz.close()\n"
   ]
  },
  {
   "cell_type": "markdown",
   "metadata": {},
   "source": [
    "reading the clipped points again to verify the point count"
   ]
  },
  {
   "cell_type": "code",
   "execution_count": 9,
   "metadata": {},
   "outputs": [
    {
     "name": "stdout",
     "output_type": "stream",
     "text": [
      "74238423\n"
     ]
    }
   ],
   "source": [
    "with laspy.open(clip_folder_path + \"\\\\\" + clip_outlaz_file_name) as f2:\n",
    "    print(f2.header.point_count)"
   ]
  },
  {
   "cell_type": "code",
   "execution_count": 10,
   "metadata": {},
   "outputs": [
    {
     "name": "stderr",
     "output_type": "stream",
     "text": [
      "Processing Chunks: 1it [00:06,  6.64s/it]"
     ]
    },
    {
     "name": "stdout",
     "output_type": "stream",
     "text": [
      "[ 1  2  6  9 14 26]\n"
     ]
    },
    {
     "name": "stderr",
     "output_type": "stream",
     "text": [
      "Processing Chunks: 2it [00:19, 10.49s/it]"
     ]
    },
    {
     "name": "stdout",
     "output_type": "stream",
     "text": [
      "[ 1  2  6  9 14 26]\n"
     ]
    },
    {
     "name": "stderr",
     "output_type": "stream",
     "text": [
      "Processing Chunks: 3it [00:27,  9.04s/it]"
     ]
    },
    {
     "name": "stdout",
     "output_type": "stream",
     "text": [
      "[ 1  2  6  9 26]\n"
     ]
    },
    {
     "name": "stderr",
     "output_type": "stream",
     "text": [
      "Processing Chunks: 4it [00:34,  8.55s/it]"
     ]
    },
    {
     "name": "stdout",
     "output_type": "stream",
     "text": [
      "[ 1  2  6  9 26]\n"
     ]
    },
    {
     "name": "stderr",
     "output_type": "stream",
     "text": [
      "Processing Chunks: 5it [00:42,  8.34s/it]"
     ]
    },
    {
     "name": "stdout",
     "output_type": "stream",
     "text": [
      "[ 1  2  6  9 26]\n"
     ]
    },
    {
     "name": "stderr",
     "output_type": "stream",
     "text": [
      "Processing Chunks: 6it [00:50,  8.03s/it]"
     ]
    },
    {
     "name": "stdout",
     "output_type": "stream",
     "text": [
      "[ 1  2  6  9 26]\n"
     ]
    },
    {
     "name": "stderr",
     "output_type": "stream",
     "text": [
      "Processing Chunks: 7it [00:57,  7.80s/it]"
     ]
    },
    {
     "name": "stdout",
     "output_type": "stream",
     "text": [
      "[ 1  2  6  9 14 26]\n"
     ]
    },
    {
     "name": "stderr",
     "output_type": "stream",
     "text": [
      "Processing Chunks: 8it [01:05,  7.88s/it]"
     ]
    },
    {
     "name": "stdout",
     "output_type": "stream",
     "text": [
      "[ 1  2  6  9 26]\n"
     ]
    },
    {
     "name": "stderr",
     "output_type": "stream",
     "text": [
      "Processing Chunks: 9it [01:12,  7.56s/it]"
     ]
    },
    {
     "name": "stdout",
     "output_type": "stream",
     "text": [
      "[ 1  2  6  9 26]\n"
     ]
    },
    {
     "name": "stderr",
     "output_type": "stream",
     "text": [
      "Processing Chunks: 10it [01:19,  7.48s/it]"
     ]
    },
    {
     "name": "stdout",
     "output_type": "stream",
     "text": [
      "[ 1  2  6  9 26]\n"
     ]
    },
    {
     "name": "stderr",
     "output_type": "stream",
     "text": [
      "Processing Chunks: 11it [01:27,  7.57s/it]"
     ]
    },
    {
     "name": "stdout",
     "output_type": "stream",
     "text": [
      "[ 1  2  6  9 26]\n"
     ]
    },
    {
     "name": "stderr",
     "output_type": "stream",
     "text": [
      "Processing Chunks: 12it [01:36,  7.90s/it]"
     ]
    },
    {
     "name": "stdout",
     "output_type": "stream",
     "text": [
      "[ 1  2  6  9 26]\n"
     ]
    },
    {
     "name": "stderr",
     "output_type": "stream",
     "text": [
      "Processing Chunks: 13it [01:43,  7.64s/it]"
     ]
    },
    {
     "name": "stdout",
     "output_type": "stream",
     "text": [
      "[ 1  2  6  9 26]\n"
     ]
    },
    {
     "name": "stderr",
     "output_type": "stream",
     "text": [
      "Processing Chunks: 14it [01:50,  7.45s/it]"
     ]
    },
    {
     "name": "stdout",
     "output_type": "stream",
     "text": [
      "[ 1  2  6  9 26]\n"
     ]
    },
    {
     "name": "stderr",
     "output_type": "stream",
     "text": [
      "Processing Chunks: 15it [01:57,  7.43s/it]"
     ]
    },
    {
     "name": "stdout",
     "output_type": "stream",
     "text": [
      "[ 1  2  6  9 26]\n"
     ]
    },
    {
     "name": "stderr",
     "output_type": "stream",
     "text": [
      "Processing Chunks: 16it [02:04,  7.26s/it]"
     ]
    },
    {
     "name": "stdout",
     "output_type": "stream",
     "text": [
      "[ 1  2  6  9 26]\n"
     ]
    },
    {
     "name": "stderr",
     "output_type": "stream",
     "text": [
      "Processing Chunks: 17it [02:10,  6.92s/it]"
     ]
    },
    {
     "name": "stdout",
     "output_type": "stream",
     "text": [
      "[ 1  2  6  9 26]\n"
     ]
    },
    {
     "name": "stderr",
     "output_type": "stream",
     "text": [
      "Processing Chunks: 18it [02:16,  6.70s/it]"
     ]
    },
    {
     "name": "stdout",
     "output_type": "stream",
     "text": [
      "[ 1  2  6  9 26]\n"
     ]
    },
    {
     "name": "stderr",
     "output_type": "stream",
     "text": [
      "Processing Chunks: 19it [02:23,  6.73s/it]"
     ]
    },
    {
     "name": "stdout",
     "output_type": "stream",
     "text": [
      "[ 1  2  6  9 26]\n"
     ]
    },
    {
     "name": "stderr",
     "output_type": "stream",
     "text": [
      "Processing Chunks: 21it [02:30,  7.17s/it]"
     ]
    },
    {
     "name": "stdout",
     "output_type": "stream",
     "text": [
      "[ 1  2  6  9 26]\n",
      "[1 2]\n"
     ]
    },
    {
     "name": "stderr",
     "output_type": "stream",
     "text": [
      "\n"
     ]
    }
   ],
   "source": [
    "points_per_iter = int(input_point_count / 20)  ## restricting chunk iteration to 21 iterations\n",
    "if clipping:\n",
    "\n",
    "    with laspy.open(laz_file_path) as f:\n",
    "        # outfile_laz = laspy.open(clip_folder_path + \"\\\\\" + clip_outlaz_file_name, mode=\"w\", \n",
    "        #                          header=f.header)\n",
    "        # total_point_count = f.header.point_count\n",
    "        count = 0\n",
    "        for points in tqdm(f.chunk_iterator(points_per_iter), desc='Processing Chunks'):\n",
    "            # For performance, we need to use copy\n",
    "            # so that the underlying arrays are contiguous  ## from laspy doc\n",
    "            \n",
    "            # x, y = points.x.copy(), points.y.copy()\n",
    "            # mask = (x >= left) & (x <= right) & (y >= bottom) & (y <= top)\n",
    "            # print(f'Chunk Max X: {points.x.max()}, Min X: {points.x.min()}, Max Y: {points.y.max()}, Min Y: {points.y.min()}')  ## useless\n",
    "            # sub_points = points[mask].copy()\n",
    "            # print(\"\\tsub_points: \", sub_points)\n",
    "            # outfile_laz.write_points(sub_points)\n",
    "            # count += len(points)\n",
    "            print(np.unique(points.classification))\n",
    "        \n",
    "        # outfile_laz.close()\n"
   ]
  },
  {
   "cell_type": "code",
   "execution_count": null,
   "metadata": {},
   "outputs": [],
   "source": []
  }
 ],
 "metadata": {
  "kernelspec": {
   "display_name": "venv",
   "language": "python",
   "name": "python3"
  },
  "language_info": {
   "codemirror_mode": {
    "name": "ipython",
    "version": 3
   },
   "file_extension": ".py",
   "mimetype": "text/x-python",
   "name": "python",
   "nbconvert_exporter": "python",
   "pygments_lexer": "ipython3",
   "version": "3.10.6"
  }
 },
 "nbformat": 4,
 "nbformat_minor": 2
}
