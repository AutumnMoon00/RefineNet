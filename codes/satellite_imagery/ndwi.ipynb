{
 "cells": [
  {
   "cell_type": "code",
   "execution_count": 1,
   "metadata": {},
   "outputs": [],
   "source": [
    "import numpy as np\n",
    "import rioxarray\n",
    "import xarray as xr\n",
    "import matplotlib.pyplot as plt"
   ]
  },
  {
   "cell_type": "code",
   "execution_count": null,
   "metadata": {},
   "outputs": [],
   "source": [
    "def compute_ndvi(red, nir, nodata):\n",
    "    ndvi = (nir - red) / (nir + red)\n",
    "    ndvi *= 1000.0\n",
    "    ndvi[ndvi < -1000] = nodata\n",
    "    ndvi[ndvi > 1000] = nodata\n",
    "    ndvi[~np.isfinite(ndvi)] = nodata\n",
    "    return ndvi.astype(np.int32)\n",
    "    "
   ]
  },
  {
   "cell_type": "code",
   "execution_count": null,
   "metadata": {},
   "outputs": [],
   "source": [
    "def compute_ndwi(green, nir, nodata):\n",
    "    ndwi = (green - nir) / (green + nir)\n",
    "    ndwi *= 1000.0\n",
    "    ndwi[ndwi < -1000] = nodata\n",
    "    ndwi[ndwi > 1000] = nodata\n",
    "    ndwi[~np.isfinite(ndwi)] = nodata\n",
    "    return ndwi.astype(np.int32)\n",
    "    "
   ]
  },
  {
   "cell_type": "code",
   "execution_count": null,
   "metadata": {},
   "outputs": [],
   "source": [
    "geotiff_path = \"C:\\\\Users\\\\Sharath Chandra\\\\Downloads\\\\20231017_110049_PNEO-03_1_1_30cm_RD_12bit_RGBNED_DeLier\\\\20231017_110049_PNEO-03_1_1_30cm_RD_12bit_RGBNED_DeLier.tif\"\n",
    "# Open into an xarray.DataArray\n",
    "geotiff_da = rioxarray.open_rasterio(geotiff_path, chunks={\"x\": 4096, \"y\": 4096, \"band\": 1})"
   ]
  },
  {
   "cell_type": "code",
   "execution_count": null,
   "metadata": {},
   "outputs": [],
   "source": [
    "geotiff_da"
   ]
  },
  {
   "cell_type": "code",
   "execution_count": null,
   "metadata": {},
   "outputs": [],
   "source": [
    "geotiff_da.band"
   ]
  },
  {
   "cell_type": "code",
   "execution_count": null,
   "metadata": {},
   "outputs": [],
   "source": [
    "geotiff_da.long_name"
   ]
  },
  {
   "cell_type": "code",
   "execution_count": null,
   "metadata": {},
   "outputs": [],
   "source": [
    "geotiff_da.isel(band=0).indexes"
   ]
  },
  {
   "cell_type": "code",
   "execution_count": null,
   "metadata": {},
   "outputs": [],
   "source": [
    "geotiff_da.isel(band=0)"
   ]
  },
  {
   "cell_type": "code",
   "execution_count": null,
   "metadata": {},
   "outputs": [],
   "source": [
    "green_band = geotiff_da.isel(band=1)  # green band\n",
    "nir_band = geotiff_da.isel(band=3)  # nir band\n",
    "\n",
    "# sub = (green_band - nir_band)"
   ]
  },
  {
   "cell_type": "code",
   "execution_count": null,
   "metadata": {},
   "outputs": [],
   "source": [
    "plt.imshow(green_band, cmap='gray')  # Use 'gray' colormap for single-band images\n",
    "plt.title(f\"Band {1}\")\n",
    "plt.colorbar()\n",
    "plt.show()\n"
   ]
  },
  {
   "cell_type": "code",
   "execution_count": null,
   "metadata": {},
   "outputs": [],
   "source": [
    "ndwi = xr.apply_ufunc(\n",
    "    compute_ndwi,\n",
    "    green_band, nir_band, \n",
    "    kwargs={\"nodata\": geotiff_da.rio.nodata},\n",
    "    dask=\"parallelized\", output_dtypes=[np.int32]\n",
    ")"
   ]
  },
  {
   "cell_type": "code",
   "execution_count": null,
   "metadata": {},
   "outputs": [],
   "source": [
    "print(ndwi.min().values)\n",
    "print(ndwi.max().values)\n"
   ]
  },
  {
   "cell_type": "code",
   "execution_count": null,
   "metadata": {},
   "outputs": [],
   "source": [
    "plt.imshow(ndwi, cmap='RdBu')  # Use 'gray' colormap for single-band images\n",
    "plt.title(f\"NDWI\")\n",
    "plt.colorbar()\n",
    "plt.show()\n"
   ]
  },
  {
   "cell_type": "code",
   "execution_count": null,
   "metadata": {},
   "outputs": [],
   "source": []
  }
 ],
 "metadata": {
  "kernelspec": {
   "display_name": "venv",
   "language": "python",
   "name": "python3"
  },
  "language_info": {
   "codemirror_mode": {
    "name": "ipython",
    "version": 3
   },
   "file_extension": ".py",
   "mimetype": "text/x-python",
   "name": "python",
   "nbconvert_exporter": "python",
   "pygments_lexer": "ipython3",
   "version": "3.10.6"
  }
 },
 "nbformat": 4,
 "nbformat_minor": 2
}
